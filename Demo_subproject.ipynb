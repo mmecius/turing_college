{
  "nbformat": 4,
  "nbformat_minor": 0,
  "metadata": {
    "kernelspec": {
      "display_name": "Python 3",
      "language": "python",
      "name": "python3"
    },
    "language_info": {
      "codemirror_mode": {
        "name": "ipython",
        "version": 3
      },
      "file_extension": ".py",
      "mimetype": "text/x-python",
      "name": "python",
      "nbconvert_exporter": "python",
      "pygments_lexer": "ipython3",
      "version": "3.8.5"
    },
    "colab": {
      "name": "Demo_subproject.ipynb",
      "provenance": [],
      "collapsed_sections": [],
      "include_colab_link": true
    }
  },
  "cells": [
    {
      "cell_type": "markdown",
      "metadata": {
        "id": "view-in-github",
        "colab_type": "text"
      },
      "source": [
        "<a href=\"https://colab.research.google.com/github/mmecius/turing_college/blob/main/Demo_subproject.ipynb\" target=\"_parent\"><img src=\"https://colab.research.google.com/assets/colab-badge.svg\" alt=\"Open In Colab\"/></a>"
      ]
    },
    {
      "cell_type": "markdown",
      "metadata": {
        "id": "4SX9m5APG18h"
      },
      "source": [
        "# Module 1: Data Science Fundamentals"
      ]
    },
    {
      "cell_type": "markdown",
      "metadata": {
        "id": "jNJuqBBVG18j"
      },
      "source": [
        "## Module 1: Data Science Fundamentals\n",
        "### Sprint 1: Data Wrangling and Storytelling\n",
        "### Subproject 1: Exploratory Data Analysis"
      ]
    },
    {
      "cell_type": "markdown",
      "metadata": {
        "id": "J7W0B6sXG18k"
      },
      "source": [
        "Welcome to the very first subproject of Data Science Fundamentals module. Throughout 3 sprints, you will gain a solid understanding of fundamentals of Data Science. We will master exploratory data analysis (EDA), the bread and butter of data scientists, dive deep into statistical hypothesis testing, and finish-up with modeling (machine learning)! This will prepare you to tackle the capstone project, which will serve as your portfolio item.\n",
        "\n",
        "The first part focuses focuses on EDA. You will learn how to analyze data, generate statistics, and make informative, eye-catching visualizations."
      ]
    },
    {
      "cell_type": "markdown",
      "metadata": {
        "id": "90qdES7-G18l"
      },
      "source": [
        "## Learning outcomes:\n",
        "\n",
        "- Submit assignments via Github (save work to Github)\n",
        "- Read datasets from CSVs for analysis with Pandas\n",
        "- Use basic Pandas functions for Exploratory Data Analysis (EDA)\n",
        "- Generate Basic Visualizations with Pandas - line charts, scatter plots, histograms."
      ]
    },
    {
      "cell_type": "markdown",
      "metadata": {
        "id": "6eXNDjlLG18l"
      },
      "source": [
        "## Working with Github"
      ]
    },
    {
      "cell_type": "markdown",
      "metadata": {
        "id": "rVB9Uo5JG18l"
      },
      "source": [
        "Even though saving Colab notebooks is very simple, every data scientist should first understand what GitHub is and how it can be used fully. Go through [uploading your project to Github](https://lab.github.com/githubtraining/uploading-your-project-to-github) tutorial."
      ]
    },
    {
      "cell_type": "markdown",
      "metadata": {
        "id": "qftyuUCaG18l"
      },
      "source": [
        "### Exercise - your first commit"
      ]
    },
    {
      "cell_type": "markdown",
      "metadata": {
        "id": "JIve3Y0xG18m"
      },
      "source": [
        "Your first task is to store this notebook on your personal GitHub. Start by creating a repository and then upload this file (which you can download using \"File\"->\"Download .ipynb\").\n",
        "\n",
        "Now, whenever you make changes to the notebook, select \"Save a copy in GitHub\" and select your repository - this will create a new commit. Remember to set the commit message to something useful and informative - a sentence explaining what was done. Make sure you commit regularly - this will prevent you from losing work and let us see your progress better.\n",
        "\n",
        "To test whether saving of the notebook works, change the quoted text in the piece of code below, then save the notebook. Close the window and open the notebook again (you can do this using https://colab.research.google.com/ , selecting the 'GitHub' tab and adding the github link to your notebook). The text should remain changed.\n",
        "\n"
      ]
    },
    {
      "cell_type": "code",
      "metadata": {
        "id": "YgrbXZjEKgim",
        "colab": {
          "base_uri": "https://localhost:8080/"
        },
        "outputId": "5286690d-f012-45b1-cbfb-d8f8097bc291"
      },
      "source": [
        "print('First commit to GitHub')\n",
        "# https://github.com/mmecius/turing_college/blob/main/Demo_subproject.ipynb"
      ],
      "execution_count": 8,
      "outputs": [
        {
          "output_type": "stream",
          "text": [
            "First commit to GitHub\n"
          ],
          "name": "stdout"
        }
      ]
    },
    {
      "cell_type": "markdown",
      "metadata": {
        "id": "B5VtJ3BhLxnV"
      },
      "source": [
        "Make sure the repository is public and share the link to it with Turing College."
      ]
    },
    {
      "cell_type": "markdown",
      "metadata": {
        "id": "HcnVbAikG18m"
      },
      "source": [
        "## Introduction to Pandas"
      ]
    },
    {
      "cell_type": "markdown",
      "metadata": {
        "id": "CKXC070NG18m"
      },
      "source": [
        "<center><img width=\"300\" src=\"https://upload.wikimedia.org/wikipedia/commons/thumb/e/ed/Pandas_logo.svg/1200px-Pandas_logo.svg.png\" /></center>"
      ]
    },
    {
      "cell_type": "markdown",
      "metadata": {
        "id": "0tJnORYtG18m"
      },
      "source": [
        "To explore the data, we will use Pandas. Pandas is the most popular Python library for [EDA (exploratory data analysis)](https://towardsdatascience.com/exploratory-data-analysis-8fc1cb20fd15). No matter how complex the EDA, everything starts with loading a dataset. Get a grip of [pandas basics](https://www.learnpython.org/en/Pandas_Basics) and go through [importing a CSV dataset into Pandas](https://www.datacamp.com/community/tutorials/pandas-read-csv) tutorial, and let's start with loading the dataset from a CSV.\n",
        "\n",
        "Key takeways:\n",
        "* Pandas primary data structure is a `Dataframe`.\n",
        "* Dictionary of lists == Pandas DataFrame (conceptually). You can treat each column as a key, while column contents - as a list of values.\n",
        "* Pandas Dataframes unlock a vast amount of operations like grouping, filtering, calculating means, quantiles, unlike standard Python data structures."
      ]
    },
    {
      "cell_type": "markdown",
      "metadata": {
        "id": "euaUQXxvG18n"
      },
      "source": [
        "\n",
        "### Exercise - loading a dataset"
      ]
    },
    {
      "cell_type": "markdown",
      "metadata": {
        "id": "d3fNXIXPG18n"
      },
      "source": [
        "In this exercise, you will learn to load a Pandas dataset. We'll explore 2 methods to load a dataset - from a remote host and from your Colab notebook's local environment.\n",
        "\n",
        "1. Load a [remote](https://raw.githubusercontent.com/fivethirtyeight/data/master/nba-elo/nbaallelo.csv) dataset into Pandas and assign it to a variable `df1`.\n",
        "2. Download the same dataset using the provided `wget` command. Read the dataset with Pandas and assign it to a variable `df2`. \n",
        "3. Run the assert command to check that the two datasets are indeed the same. The head(x) function also lets you check the first x entries of the dataset - try it out."
      ]
    },
    {
      "cell_type": "code",
      "metadata": {
        "id": "dpMJZT6CG18n",
        "colab": {
          "base_uri": "https://localhost:8080/"
        },
        "outputId": "8f8106d2-6ee5-42e5-fd6e-b738d15fa132"
      },
      "source": [
        "# wget is a bash command line program, which is used to download files or website sources from the internet\n",
        "!wget https://raw.githubusercontent.com/fivethirtyeight/data/master/nba-elo/nbaallelo.csv -O nbaaellelo.csv"
      ],
      "execution_count": 19,
      "outputs": [
        {
          "output_type": "stream",
          "text": [
            "--2021-03-18 14:48:57--  https://raw.githubusercontent.com/fivethirtyeight/data/master/nba-elo/nbaallelo.csv\n",
            "Resolving raw.githubusercontent.com (raw.githubusercontent.com)... 185.199.108.133, 185.199.110.133, 185.199.111.133, ...\n",
            "Connecting to raw.githubusercontent.com (raw.githubusercontent.com)|185.199.108.133|:443... connected.\n",
            "HTTP request sent, awaiting response... 200 OK\n",
            "Length: 18173265 (17M) [text/plain]\n",
            "Saving to: ‘nbaaellelo.csv’\n",
            "\n",
            "nbaaellelo.csv      100%[===================>]  17.33M  27.8MB/s    in 0.6s    \n",
            "\n",
            "2021-03-18 14:48:58 (27.8 MB/s) - ‘nbaaellelo.csv’ saved [18173265/18173265]\n",
            "\n"
          ],
          "name": "stdout"
        }
      ]
    },
    {
      "cell_type": "code",
      "metadata": {
        "id": "07Yr_nhAGBcY"
      },
      "source": [
        "import pandas as pd\n",
        "\n",
        "url = 'https://raw.githubusercontent.com/fivethirtyeight/data/master/nba-elo/nbaallelo.csv'\n",
        "data = pd.read_csv(url)\n",
        "\n",
        "csv_file = 'nbaaellelo.csv'\n",
        "data2 = pd.read_csv(csv_file)\n",
        "\n",
        "df1 = pd.DataFrame(data)\n",
        "df2 = pd.DataFrame(data2)\n"
      ],
      "execution_count": 20,
      "outputs": []
    },
    {
      "cell_type": "code",
      "metadata": {
        "id": "iKv_wYQbG18o"
      },
      "source": [
        "assert df1.equals(df2)"
      ],
      "execution_count": 21,
      "outputs": []
    },
    {
      "cell_type": "code",
      "metadata": {
        "colab": {
          "base_uri": "https://localhost:8080/"
        },
        "id": "lwA6daO4XLOp",
        "outputId": "c3ef25bc-8611-4bfb-ef26-10f9cf3002a1"
      },
      "source": [
        "print(\"Rows, columns:\")\n",
        "df1.shape"
      ],
      "execution_count": 22,
      "outputs": [
        {
          "output_type": "stream",
          "text": [
            "Rows, columns:\n"
          ],
          "name": "stdout"
        },
        {
          "output_type": "execute_result",
          "data": {
            "text/plain": [
              "(126314, 23)"
            ]
          },
          "metadata": {
            "tags": []
          },
          "execution_count": 22
        }
      ]
    },
    {
      "cell_type": "code",
      "metadata": {
        "colab": {
          "base_uri": "https://localhost:8080/"
        },
        "id": "OjfN60HtXdVf",
        "outputId": "b99da7b0-0509-46be-d022-e070a9bb1101"
      },
      "source": [
        "print('Columns names:')\n",
        "df1.columns"
      ],
      "execution_count": 23,
      "outputs": [
        {
          "output_type": "stream",
          "text": [
            "Columns names:\n"
          ],
          "name": "stdout"
        },
        {
          "output_type": "execute_result",
          "data": {
            "text/plain": [
              "Index(['gameorder', 'game_id', 'lg_id', '_iscopy', 'year_id', 'date_game',\n",
              "       'seasongame', 'is_playoffs', 'team_id', 'fran_id', 'pts', 'elo_i',\n",
              "       'elo_n', 'win_equiv', 'opp_id', 'opp_fran', 'opp_pts', 'opp_elo_i',\n",
              "       'opp_elo_n', 'game_location', 'game_result', 'forecast', 'notes'],\n",
              "      dtype='object')"
            ]
          },
          "metadata": {
            "tags": []
          },
          "execution_count": 23
        }
      ]
    },
    {
      "cell_type": "code",
      "metadata": {
        "colab": {
          "base_uri": "https://localhost:8080/",
          "height": 461
        },
        "id": "UO1yhAqsXueG",
        "outputId": "3bc093f6-bdf1-4015-c89e-575748b69458"
      },
      "source": [
        "print('Not a number or junk data:')\n",
        "df1.isna()"
      ],
      "execution_count": 24,
      "outputs": [
        {
          "output_type": "stream",
          "text": [
            "Not a number or junk data:\n"
          ],
          "name": "stdout"
        },
        {
          "output_type": "execute_result",
          "data": {
            "text/html": [
              "<div>\n",
              "<style scoped>\n",
              "    .dataframe tbody tr th:only-of-type {\n",
              "        vertical-align: middle;\n",
              "    }\n",
              "\n",
              "    .dataframe tbody tr th {\n",
              "        vertical-align: top;\n",
              "    }\n",
              "\n",
              "    .dataframe thead th {\n",
              "        text-align: right;\n",
              "    }\n",
              "</style>\n",
              "<table border=\"1\" class=\"dataframe\">\n",
              "  <thead>\n",
              "    <tr style=\"text-align: right;\">\n",
              "      <th></th>\n",
              "      <th>gameorder</th>\n",
              "      <th>game_id</th>\n",
              "      <th>lg_id</th>\n",
              "      <th>_iscopy</th>\n",
              "      <th>year_id</th>\n",
              "      <th>date_game</th>\n",
              "      <th>seasongame</th>\n",
              "      <th>is_playoffs</th>\n",
              "      <th>team_id</th>\n",
              "      <th>fran_id</th>\n",
              "      <th>pts</th>\n",
              "      <th>elo_i</th>\n",
              "      <th>elo_n</th>\n",
              "      <th>win_equiv</th>\n",
              "      <th>opp_id</th>\n",
              "      <th>opp_fran</th>\n",
              "      <th>opp_pts</th>\n",
              "      <th>opp_elo_i</th>\n",
              "      <th>opp_elo_n</th>\n",
              "      <th>game_location</th>\n",
              "      <th>game_result</th>\n",
              "      <th>forecast</th>\n",
              "      <th>notes</th>\n",
              "    </tr>\n",
              "  </thead>\n",
              "  <tbody>\n",
              "    <tr>\n",
              "      <th>0</th>\n",
              "      <td>False</td>\n",
              "      <td>False</td>\n",
              "      <td>False</td>\n",
              "      <td>False</td>\n",
              "      <td>False</td>\n",
              "      <td>False</td>\n",
              "      <td>False</td>\n",
              "      <td>False</td>\n",
              "      <td>False</td>\n",
              "      <td>False</td>\n",
              "      <td>False</td>\n",
              "      <td>False</td>\n",
              "      <td>False</td>\n",
              "      <td>False</td>\n",
              "      <td>False</td>\n",
              "      <td>False</td>\n",
              "      <td>False</td>\n",
              "      <td>False</td>\n",
              "      <td>False</td>\n",
              "      <td>False</td>\n",
              "      <td>False</td>\n",
              "      <td>False</td>\n",
              "      <td>True</td>\n",
              "    </tr>\n",
              "    <tr>\n",
              "      <th>1</th>\n",
              "      <td>False</td>\n",
              "      <td>False</td>\n",
              "      <td>False</td>\n",
              "      <td>False</td>\n",
              "      <td>False</td>\n",
              "      <td>False</td>\n",
              "      <td>False</td>\n",
              "      <td>False</td>\n",
              "      <td>False</td>\n",
              "      <td>False</td>\n",
              "      <td>False</td>\n",
              "      <td>False</td>\n",
              "      <td>False</td>\n",
              "      <td>False</td>\n",
              "      <td>False</td>\n",
              "      <td>False</td>\n",
              "      <td>False</td>\n",
              "      <td>False</td>\n",
              "      <td>False</td>\n",
              "      <td>False</td>\n",
              "      <td>False</td>\n",
              "      <td>False</td>\n",
              "      <td>True</td>\n",
              "    </tr>\n",
              "    <tr>\n",
              "      <th>2</th>\n",
              "      <td>False</td>\n",
              "      <td>False</td>\n",
              "      <td>False</td>\n",
              "      <td>False</td>\n",
              "      <td>False</td>\n",
              "      <td>False</td>\n",
              "      <td>False</td>\n",
              "      <td>False</td>\n",
              "      <td>False</td>\n",
              "      <td>False</td>\n",
              "      <td>False</td>\n",
              "      <td>False</td>\n",
              "      <td>False</td>\n",
              "      <td>False</td>\n",
              "      <td>False</td>\n",
              "      <td>False</td>\n",
              "      <td>False</td>\n",
              "      <td>False</td>\n",
              "      <td>False</td>\n",
              "      <td>False</td>\n",
              "      <td>False</td>\n",
              "      <td>False</td>\n",
              "      <td>True</td>\n",
              "    </tr>\n",
              "    <tr>\n",
              "      <th>3</th>\n",
              "      <td>False</td>\n",
              "      <td>False</td>\n",
              "      <td>False</td>\n",
              "      <td>False</td>\n",
              "      <td>False</td>\n",
              "      <td>False</td>\n",
              "      <td>False</td>\n",
              "      <td>False</td>\n",
              "      <td>False</td>\n",
              "      <td>False</td>\n",
              "      <td>False</td>\n",
              "      <td>False</td>\n",
              "      <td>False</td>\n",
              "      <td>False</td>\n",
              "      <td>False</td>\n",
              "      <td>False</td>\n",
              "      <td>False</td>\n",
              "      <td>False</td>\n",
              "      <td>False</td>\n",
              "      <td>False</td>\n",
              "      <td>False</td>\n",
              "      <td>False</td>\n",
              "      <td>True</td>\n",
              "    </tr>\n",
              "    <tr>\n",
              "      <th>4</th>\n",
              "      <td>False</td>\n",
              "      <td>False</td>\n",
              "      <td>False</td>\n",
              "      <td>False</td>\n",
              "      <td>False</td>\n",
              "      <td>False</td>\n",
              "      <td>False</td>\n",
              "      <td>False</td>\n",
              "      <td>False</td>\n",
              "      <td>False</td>\n",
              "      <td>False</td>\n",
              "      <td>False</td>\n",
              "      <td>False</td>\n",
              "      <td>False</td>\n",
              "      <td>False</td>\n",
              "      <td>False</td>\n",
              "      <td>False</td>\n",
              "      <td>False</td>\n",
              "      <td>False</td>\n",
              "      <td>False</td>\n",
              "      <td>False</td>\n",
              "      <td>False</td>\n",
              "      <td>True</td>\n",
              "    </tr>\n",
              "    <tr>\n",
              "      <th>...</th>\n",
              "      <td>...</td>\n",
              "      <td>...</td>\n",
              "      <td>...</td>\n",
              "      <td>...</td>\n",
              "      <td>...</td>\n",
              "      <td>...</td>\n",
              "      <td>...</td>\n",
              "      <td>...</td>\n",
              "      <td>...</td>\n",
              "      <td>...</td>\n",
              "      <td>...</td>\n",
              "      <td>...</td>\n",
              "      <td>...</td>\n",
              "      <td>...</td>\n",
              "      <td>...</td>\n",
              "      <td>...</td>\n",
              "      <td>...</td>\n",
              "      <td>...</td>\n",
              "      <td>...</td>\n",
              "      <td>...</td>\n",
              "      <td>...</td>\n",
              "      <td>...</td>\n",
              "      <td>...</td>\n",
              "    </tr>\n",
              "    <tr>\n",
              "      <th>126309</th>\n",
              "      <td>False</td>\n",
              "      <td>False</td>\n",
              "      <td>False</td>\n",
              "      <td>False</td>\n",
              "      <td>False</td>\n",
              "      <td>False</td>\n",
              "      <td>False</td>\n",
              "      <td>False</td>\n",
              "      <td>False</td>\n",
              "      <td>False</td>\n",
              "      <td>False</td>\n",
              "      <td>False</td>\n",
              "      <td>False</td>\n",
              "      <td>False</td>\n",
              "      <td>False</td>\n",
              "      <td>False</td>\n",
              "      <td>False</td>\n",
              "      <td>False</td>\n",
              "      <td>False</td>\n",
              "      <td>False</td>\n",
              "      <td>False</td>\n",
              "      <td>False</td>\n",
              "      <td>True</td>\n",
              "    </tr>\n",
              "    <tr>\n",
              "      <th>126310</th>\n",
              "      <td>False</td>\n",
              "      <td>False</td>\n",
              "      <td>False</td>\n",
              "      <td>False</td>\n",
              "      <td>False</td>\n",
              "      <td>False</td>\n",
              "      <td>False</td>\n",
              "      <td>False</td>\n",
              "      <td>False</td>\n",
              "      <td>False</td>\n",
              "      <td>False</td>\n",
              "      <td>False</td>\n",
              "      <td>False</td>\n",
              "      <td>False</td>\n",
              "      <td>False</td>\n",
              "      <td>False</td>\n",
              "      <td>False</td>\n",
              "      <td>False</td>\n",
              "      <td>False</td>\n",
              "      <td>False</td>\n",
              "      <td>False</td>\n",
              "      <td>False</td>\n",
              "      <td>True</td>\n",
              "    </tr>\n",
              "    <tr>\n",
              "      <th>126311</th>\n",
              "      <td>False</td>\n",
              "      <td>False</td>\n",
              "      <td>False</td>\n",
              "      <td>False</td>\n",
              "      <td>False</td>\n",
              "      <td>False</td>\n",
              "      <td>False</td>\n",
              "      <td>False</td>\n",
              "      <td>False</td>\n",
              "      <td>False</td>\n",
              "      <td>False</td>\n",
              "      <td>False</td>\n",
              "      <td>False</td>\n",
              "      <td>False</td>\n",
              "      <td>False</td>\n",
              "      <td>False</td>\n",
              "      <td>False</td>\n",
              "      <td>False</td>\n",
              "      <td>False</td>\n",
              "      <td>False</td>\n",
              "      <td>False</td>\n",
              "      <td>False</td>\n",
              "      <td>True</td>\n",
              "    </tr>\n",
              "    <tr>\n",
              "      <th>126312</th>\n",
              "      <td>False</td>\n",
              "      <td>False</td>\n",
              "      <td>False</td>\n",
              "      <td>False</td>\n",
              "      <td>False</td>\n",
              "      <td>False</td>\n",
              "      <td>False</td>\n",
              "      <td>False</td>\n",
              "      <td>False</td>\n",
              "      <td>False</td>\n",
              "      <td>False</td>\n",
              "      <td>False</td>\n",
              "      <td>False</td>\n",
              "      <td>False</td>\n",
              "      <td>False</td>\n",
              "      <td>False</td>\n",
              "      <td>False</td>\n",
              "      <td>False</td>\n",
              "      <td>False</td>\n",
              "      <td>False</td>\n",
              "      <td>False</td>\n",
              "      <td>False</td>\n",
              "      <td>True</td>\n",
              "    </tr>\n",
              "    <tr>\n",
              "      <th>126313</th>\n",
              "      <td>False</td>\n",
              "      <td>False</td>\n",
              "      <td>False</td>\n",
              "      <td>False</td>\n",
              "      <td>False</td>\n",
              "      <td>False</td>\n",
              "      <td>False</td>\n",
              "      <td>False</td>\n",
              "      <td>False</td>\n",
              "      <td>False</td>\n",
              "      <td>False</td>\n",
              "      <td>False</td>\n",
              "      <td>False</td>\n",
              "      <td>False</td>\n",
              "      <td>False</td>\n",
              "      <td>False</td>\n",
              "      <td>False</td>\n",
              "      <td>False</td>\n",
              "      <td>False</td>\n",
              "      <td>False</td>\n",
              "      <td>False</td>\n",
              "      <td>False</td>\n",
              "      <td>True</td>\n",
              "    </tr>\n",
              "  </tbody>\n",
              "</table>\n",
              "<p>126314 rows × 23 columns</p>\n",
              "</div>"
            ],
            "text/plain": [
              "        gameorder  game_id  lg_id  ...  game_result  forecast  notes\n",
              "0           False    False  False  ...        False     False   True\n",
              "1           False    False  False  ...        False     False   True\n",
              "2           False    False  False  ...        False     False   True\n",
              "3           False    False  False  ...        False     False   True\n",
              "4           False    False  False  ...        False     False   True\n",
              "...           ...      ...    ...  ...          ...       ...    ...\n",
              "126309      False    False  False  ...        False     False   True\n",
              "126310      False    False  False  ...        False     False   True\n",
              "126311      False    False  False  ...        False     False   True\n",
              "126312      False    False  False  ...        False     False   True\n",
              "126313      False    False  False  ...        False     False   True\n",
              "\n",
              "[126314 rows x 23 columns]"
            ]
          },
          "metadata": {
            "tags": []
          },
          "execution_count": 24
        }
      ]
    },
    {
      "cell_type": "markdown",
      "metadata": {
        "id": "n_5dtP1IO2zk"
      },
      "source": [
        "Only notes column has data not suitable for analysis."
      ]
    },
    {
      "cell_type": "code",
      "metadata": {
        "colab": {
          "base_uri": "https://localhost:8080/",
          "height": 591
        },
        "id": "7jTNMs6yX5S-",
        "outputId": "5aad3ccf-18af-43d5-e98e-c173786283b0"
      },
      "source": [
        "print('check last rows for empty rows:')\n",
        "df1.tail()\n",
        "clean_df = df1.dropna()\n",
        "clean_df.tail()"
      ],
      "execution_count": 25,
      "outputs": [
        {
          "output_type": "stream",
          "text": [
            "check last rows for empty rows:\n"
          ],
          "name": "stdout"
        },
        {
          "output_type": "execute_result",
          "data": {
            "text/html": [
              "<div>\n",
              "<style scoped>\n",
              "    .dataframe tbody tr th:only-of-type {\n",
              "        vertical-align: middle;\n",
              "    }\n",
              "\n",
              "    .dataframe tbody tr th {\n",
              "        vertical-align: top;\n",
              "    }\n",
              "\n",
              "    .dataframe thead th {\n",
              "        text-align: right;\n",
              "    }\n",
              "</style>\n",
              "<table border=\"1\" class=\"dataframe\">\n",
              "  <thead>\n",
              "    <tr style=\"text-align: right;\">\n",
              "      <th></th>\n",
              "      <th>gameorder</th>\n",
              "      <th>game_id</th>\n",
              "      <th>lg_id</th>\n",
              "      <th>_iscopy</th>\n",
              "      <th>year_id</th>\n",
              "      <th>date_game</th>\n",
              "      <th>seasongame</th>\n",
              "      <th>is_playoffs</th>\n",
              "      <th>team_id</th>\n",
              "      <th>fran_id</th>\n",
              "      <th>pts</th>\n",
              "      <th>elo_i</th>\n",
              "      <th>elo_n</th>\n",
              "      <th>win_equiv</th>\n",
              "      <th>opp_id</th>\n",
              "      <th>opp_fran</th>\n",
              "      <th>opp_pts</th>\n",
              "      <th>opp_elo_i</th>\n",
              "      <th>opp_elo_n</th>\n",
              "      <th>game_location</th>\n",
              "      <th>game_result</th>\n",
              "      <th>forecast</th>\n",
              "      <th>notes</th>\n",
              "    </tr>\n",
              "  </thead>\n",
              "  <tbody>\n",
              "    <tr>\n",
              "      <th>122207</th>\n",
              "      <td>61104</td>\n",
              "      <td>201401160ATL</td>\n",
              "      <td>NBA</td>\n",
              "      <td>0</td>\n",
              "      <td>2014</td>\n",
              "      <td>1/16/2014</td>\n",
              "      <td>39</td>\n",
              "      <td>0</td>\n",
              "      <td>ATL</td>\n",
              "      <td>Hawks</td>\n",
              "      <td>110</td>\n",
              "      <td>1505.0525</td>\n",
              "      <td>1487.5908</td>\n",
              "      <td>39.239410</td>\n",
              "      <td>BRK</td>\n",
              "      <td>Nets</td>\n",
              "      <td>127</td>\n",
              "      <td>1454.6501</td>\n",
              "      <td>1472.1118</td>\n",
              "      <td>N</td>\n",
              "      <td>L</td>\n",
              "      <td>0.572030</td>\n",
              "      <td>at London, England</td>\n",
              "    </tr>\n",
              "    <tr>\n",
              "      <th>123916</th>\n",
              "      <td>61959</td>\n",
              "      <td>201411120MIN</td>\n",
              "      <td>NBA</td>\n",
              "      <td>1</td>\n",
              "      <td>2015</td>\n",
              "      <td>11/12/2014</td>\n",
              "      <td>8</td>\n",
              "      <td>0</td>\n",
              "      <td>HOU</td>\n",
              "      <td>Rockets</td>\n",
              "      <td>113</td>\n",
              "      <td>1635.7723</td>\n",
              "      <td>1642.4540</td>\n",
              "      <td>54.894760</td>\n",
              "      <td>MIN</td>\n",
              "      <td>Timberwolves</td>\n",
              "      <td>101</td>\n",
              "      <td>1502.9229</td>\n",
              "      <td>1496.2412</td>\n",
              "      <td>N</td>\n",
              "      <td>W</td>\n",
              "      <td>0.682383</td>\n",
              "      <td>at Mexico City Arena, Mexico City, Mexico</td>\n",
              "    </tr>\n",
              "    <tr>\n",
              "      <th>123917</th>\n",
              "      <td>61959</td>\n",
              "      <td>201411120MIN</td>\n",
              "      <td>NBA</td>\n",
              "      <td>0</td>\n",
              "      <td>2015</td>\n",
              "      <td>11/12/2014</td>\n",
              "      <td>7</td>\n",
              "      <td>0</td>\n",
              "      <td>MIN</td>\n",
              "      <td>Timberwolves</td>\n",
              "      <td>101</td>\n",
              "      <td>1502.9229</td>\n",
              "      <td>1496.2412</td>\n",
              "      <td>40.129723</td>\n",
              "      <td>HOU</td>\n",
              "      <td>Rockets</td>\n",
              "      <td>113</td>\n",
              "      <td>1635.7723</td>\n",
              "      <td>1642.4540</td>\n",
              "      <td>N</td>\n",
              "      <td>L</td>\n",
              "      <td>0.317617</td>\n",
              "      <td>at Mexico City Arena, Mexico City, Mexico</td>\n",
              "    </tr>\n",
              "    <tr>\n",
              "      <th>124862</th>\n",
              "      <td>62432</td>\n",
              "      <td>201501150MIL</td>\n",
              "      <td>NBA</td>\n",
              "      <td>0</td>\n",
              "      <td>2015</td>\n",
              "      <td>1/15/2015</td>\n",
              "      <td>40</td>\n",
              "      <td>0</td>\n",
              "      <td>MIL</td>\n",
              "      <td>Bucks</td>\n",
              "      <td>95</td>\n",
              "      <td>1499.9038</td>\n",
              "      <td>1505.8629</td>\n",
              "      <td>41.138866</td>\n",
              "      <td>NYK</td>\n",
              "      <td>Knicks</td>\n",
              "      <td>79</td>\n",
              "      <td>1304.4620</td>\n",
              "      <td>1298.5029</td>\n",
              "      <td>N</td>\n",
              "      <td>W</td>\n",
              "      <td>0.754925</td>\n",
              "      <td>at The O2, London, England</td>\n",
              "    </tr>\n",
              "    <tr>\n",
              "      <th>124863</th>\n",
              "      <td>62432</td>\n",
              "      <td>201501150MIL</td>\n",
              "      <td>NBA</td>\n",
              "      <td>1</td>\n",
              "      <td>2015</td>\n",
              "      <td>1/15/2015</td>\n",
              "      <td>41</td>\n",
              "      <td>0</td>\n",
              "      <td>NYK</td>\n",
              "      <td>Knicks</td>\n",
              "      <td>79</td>\n",
              "      <td>1304.4620</td>\n",
              "      <td>1298.5029</td>\n",
              "      <td>21.189493</td>\n",
              "      <td>MIL</td>\n",
              "      <td>Bucks</td>\n",
              "      <td>95</td>\n",
              "      <td>1499.9038</td>\n",
              "      <td>1505.8629</td>\n",
              "      <td>N</td>\n",
              "      <td>L</td>\n",
              "      <td>0.245075</td>\n",
              "      <td>at The O2, London, England</td>\n",
              "    </tr>\n",
              "  </tbody>\n",
              "</table>\n",
              "</div>"
            ],
            "text/plain": [
              "        gameorder  ...                                      notes\n",
              "122207      61104  ...                         at London, England\n",
              "123916      61959  ...  at Mexico City Arena, Mexico City, Mexico\n",
              "123917      61959  ...  at Mexico City Arena, Mexico City, Mexico\n",
              "124862      62432  ...                 at The O2, London, England\n",
              "124863      62432  ...                 at The O2, London, England\n",
              "\n",
              "[5 rows x 23 columns]"
            ]
          },
          "metadata": {
            "tags": []
          },
          "execution_count": 25
        }
      ]
    },
    {
      "cell_type": "markdown",
      "metadata": {
        "id": "4THtTxLyPGm_"
      },
      "source": [
        "No need to remove data from last row."
      ]
    },
    {
      "cell_type": "code",
      "metadata": {
        "id": "2s3kyY1GG18o",
        "colab": {
          "base_uri": "https://localhost:8080/",
          "height": 226
        },
        "outputId": "a90aad95-9d22-4c8d-ef67-a33d5067b040"
      },
      "source": [
        "df1.head(5)"
      ],
      "execution_count": 26,
      "outputs": [
        {
          "output_type": "execute_result",
          "data": {
            "text/html": [
              "<div>\n",
              "<style scoped>\n",
              "    .dataframe tbody tr th:only-of-type {\n",
              "        vertical-align: middle;\n",
              "    }\n",
              "\n",
              "    .dataframe tbody tr th {\n",
              "        vertical-align: top;\n",
              "    }\n",
              "\n",
              "    .dataframe thead th {\n",
              "        text-align: right;\n",
              "    }\n",
              "</style>\n",
              "<table border=\"1\" class=\"dataframe\">\n",
              "  <thead>\n",
              "    <tr style=\"text-align: right;\">\n",
              "      <th></th>\n",
              "      <th>gameorder</th>\n",
              "      <th>game_id</th>\n",
              "      <th>lg_id</th>\n",
              "      <th>_iscopy</th>\n",
              "      <th>year_id</th>\n",
              "      <th>date_game</th>\n",
              "      <th>seasongame</th>\n",
              "      <th>is_playoffs</th>\n",
              "      <th>team_id</th>\n",
              "      <th>fran_id</th>\n",
              "      <th>pts</th>\n",
              "      <th>elo_i</th>\n",
              "      <th>elo_n</th>\n",
              "      <th>win_equiv</th>\n",
              "      <th>opp_id</th>\n",
              "      <th>opp_fran</th>\n",
              "      <th>opp_pts</th>\n",
              "      <th>opp_elo_i</th>\n",
              "      <th>opp_elo_n</th>\n",
              "      <th>game_location</th>\n",
              "      <th>game_result</th>\n",
              "      <th>forecast</th>\n",
              "      <th>notes</th>\n",
              "    </tr>\n",
              "  </thead>\n",
              "  <tbody>\n",
              "    <tr>\n",
              "      <th>0</th>\n",
              "      <td>1</td>\n",
              "      <td>194611010TRH</td>\n",
              "      <td>NBA</td>\n",
              "      <td>0</td>\n",
              "      <td>1947</td>\n",
              "      <td>11/1/1946</td>\n",
              "      <td>1</td>\n",
              "      <td>0</td>\n",
              "      <td>TRH</td>\n",
              "      <td>Huskies</td>\n",
              "      <td>66</td>\n",
              "      <td>1300.0000</td>\n",
              "      <td>1293.2767</td>\n",
              "      <td>40.294830</td>\n",
              "      <td>NYK</td>\n",
              "      <td>Knicks</td>\n",
              "      <td>68</td>\n",
              "      <td>1300.0000</td>\n",
              "      <td>1306.7233</td>\n",
              "      <td>H</td>\n",
              "      <td>L</td>\n",
              "      <td>0.640065</td>\n",
              "      <td>NaN</td>\n",
              "    </tr>\n",
              "    <tr>\n",
              "      <th>1</th>\n",
              "      <td>1</td>\n",
              "      <td>194611010TRH</td>\n",
              "      <td>NBA</td>\n",
              "      <td>1</td>\n",
              "      <td>1947</td>\n",
              "      <td>11/1/1946</td>\n",
              "      <td>1</td>\n",
              "      <td>0</td>\n",
              "      <td>NYK</td>\n",
              "      <td>Knicks</td>\n",
              "      <td>68</td>\n",
              "      <td>1300.0000</td>\n",
              "      <td>1306.7233</td>\n",
              "      <td>41.705170</td>\n",
              "      <td>TRH</td>\n",
              "      <td>Huskies</td>\n",
              "      <td>66</td>\n",
              "      <td>1300.0000</td>\n",
              "      <td>1293.2767</td>\n",
              "      <td>A</td>\n",
              "      <td>W</td>\n",
              "      <td>0.359935</td>\n",
              "      <td>NaN</td>\n",
              "    </tr>\n",
              "    <tr>\n",
              "      <th>2</th>\n",
              "      <td>2</td>\n",
              "      <td>194611020CHS</td>\n",
              "      <td>NBA</td>\n",
              "      <td>0</td>\n",
              "      <td>1947</td>\n",
              "      <td>11/2/1946</td>\n",
              "      <td>1</td>\n",
              "      <td>0</td>\n",
              "      <td>CHS</td>\n",
              "      <td>Stags</td>\n",
              "      <td>63</td>\n",
              "      <td>1300.0000</td>\n",
              "      <td>1309.6521</td>\n",
              "      <td>42.012257</td>\n",
              "      <td>NYK</td>\n",
              "      <td>Knicks</td>\n",
              "      <td>47</td>\n",
              "      <td>1306.7233</td>\n",
              "      <td>1297.0712</td>\n",
              "      <td>H</td>\n",
              "      <td>W</td>\n",
              "      <td>0.631101</td>\n",
              "      <td>NaN</td>\n",
              "    </tr>\n",
              "    <tr>\n",
              "      <th>3</th>\n",
              "      <td>2</td>\n",
              "      <td>194611020CHS</td>\n",
              "      <td>NBA</td>\n",
              "      <td>1</td>\n",
              "      <td>1947</td>\n",
              "      <td>11/2/1946</td>\n",
              "      <td>2</td>\n",
              "      <td>0</td>\n",
              "      <td>NYK</td>\n",
              "      <td>Knicks</td>\n",
              "      <td>47</td>\n",
              "      <td>1306.7233</td>\n",
              "      <td>1297.0712</td>\n",
              "      <td>40.692783</td>\n",
              "      <td>CHS</td>\n",
              "      <td>Stags</td>\n",
              "      <td>63</td>\n",
              "      <td>1300.0000</td>\n",
              "      <td>1309.6521</td>\n",
              "      <td>A</td>\n",
              "      <td>L</td>\n",
              "      <td>0.368899</td>\n",
              "      <td>NaN</td>\n",
              "    </tr>\n",
              "    <tr>\n",
              "      <th>4</th>\n",
              "      <td>3</td>\n",
              "      <td>194611020DTF</td>\n",
              "      <td>NBA</td>\n",
              "      <td>0</td>\n",
              "      <td>1947</td>\n",
              "      <td>11/2/1946</td>\n",
              "      <td>1</td>\n",
              "      <td>0</td>\n",
              "      <td>DTF</td>\n",
              "      <td>Falcons</td>\n",
              "      <td>33</td>\n",
              "      <td>1300.0000</td>\n",
              "      <td>1279.6189</td>\n",
              "      <td>38.864048</td>\n",
              "      <td>WSC</td>\n",
              "      <td>Capitols</td>\n",
              "      <td>50</td>\n",
              "      <td>1300.0000</td>\n",
              "      <td>1320.3811</td>\n",
              "      <td>H</td>\n",
              "      <td>L</td>\n",
              "      <td>0.640065</td>\n",
              "      <td>NaN</td>\n",
              "    </tr>\n",
              "  </tbody>\n",
              "</table>\n",
              "</div>"
            ],
            "text/plain": [
              "   gameorder       game_id lg_id  ...  game_result  forecast notes\n",
              "0          1  194611010TRH   NBA  ...            L  0.640065   NaN\n",
              "1          1  194611010TRH   NBA  ...            W  0.359935   NaN\n",
              "2          2  194611020CHS   NBA  ...            W  0.631101   NaN\n",
              "3          2  194611020CHS   NBA  ...            L  0.368899   NaN\n",
              "4          3  194611020DTF   NBA  ...            L  0.640065   NaN\n",
              "\n",
              "[5 rows x 23 columns]"
            ]
          },
          "metadata": {
            "tags": []
          },
          "execution_count": 26
        }
      ]
    },
    {
      "cell_type": "markdown",
      "metadata": {
        "id": "KAqVuTebG18p"
      },
      "source": [
        "When a dataframe has too many rows to fit the page, it's often convenient to `transpose` the dataframe with `.T`. Try it!"
      ]
    },
    {
      "cell_type": "code",
      "metadata": {
        "id": "kfCFbK2yG18p",
        "colab": {
          "base_uri": "https://localhost:8080/",
          "height": 771
        },
        "outputId": "175dc0e3-11fa-4d16-e7f1-2268c813fbd6"
      },
      "source": [
        "df1.head().T\n"
      ],
      "execution_count": 27,
      "outputs": [
        {
          "output_type": "execute_result",
          "data": {
            "text/html": [
              "<div>\n",
              "<style scoped>\n",
              "    .dataframe tbody tr th:only-of-type {\n",
              "        vertical-align: middle;\n",
              "    }\n",
              "\n",
              "    .dataframe tbody tr th {\n",
              "        vertical-align: top;\n",
              "    }\n",
              "\n",
              "    .dataframe thead th {\n",
              "        text-align: right;\n",
              "    }\n",
              "</style>\n",
              "<table border=\"1\" class=\"dataframe\">\n",
              "  <thead>\n",
              "    <tr style=\"text-align: right;\">\n",
              "      <th></th>\n",
              "      <th>0</th>\n",
              "      <th>1</th>\n",
              "      <th>2</th>\n",
              "      <th>3</th>\n",
              "      <th>4</th>\n",
              "    </tr>\n",
              "  </thead>\n",
              "  <tbody>\n",
              "    <tr>\n",
              "      <th>gameorder</th>\n",
              "      <td>1</td>\n",
              "      <td>1</td>\n",
              "      <td>2</td>\n",
              "      <td>2</td>\n",
              "      <td>3</td>\n",
              "    </tr>\n",
              "    <tr>\n",
              "      <th>game_id</th>\n",
              "      <td>194611010TRH</td>\n",
              "      <td>194611010TRH</td>\n",
              "      <td>194611020CHS</td>\n",
              "      <td>194611020CHS</td>\n",
              "      <td>194611020DTF</td>\n",
              "    </tr>\n",
              "    <tr>\n",
              "      <th>lg_id</th>\n",
              "      <td>NBA</td>\n",
              "      <td>NBA</td>\n",
              "      <td>NBA</td>\n",
              "      <td>NBA</td>\n",
              "      <td>NBA</td>\n",
              "    </tr>\n",
              "    <tr>\n",
              "      <th>_iscopy</th>\n",
              "      <td>0</td>\n",
              "      <td>1</td>\n",
              "      <td>0</td>\n",
              "      <td>1</td>\n",
              "      <td>0</td>\n",
              "    </tr>\n",
              "    <tr>\n",
              "      <th>year_id</th>\n",
              "      <td>1947</td>\n",
              "      <td>1947</td>\n",
              "      <td>1947</td>\n",
              "      <td>1947</td>\n",
              "      <td>1947</td>\n",
              "    </tr>\n",
              "    <tr>\n",
              "      <th>date_game</th>\n",
              "      <td>11/1/1946</td>\n",
              "      <td>11/1/1946</td>\n",
              "      <td>11/2/1946</td>\n",
              "      <td>11/2/1946</td>\n",
              "      <td>11/2/1946</td>\n",
              "    </tr>\n",
              "    <tr>\n",
              "      <th>seasongame</th>\n",
              "      <td>1</td>\n",
              "      <td>1</td>\n",
              "      <td>1</td>\n",
              "      <td>2</td>\n",
              "      <td>1</td>\n",
              "    </tr>\n",
              "    <tr>\n",
              "      <th>is_playoffs</th>\n",
              "      <td>0</td>\n",
              "      <td>0</td>\n",
              "      <td>0</td>\n",
              "      <td>0</td>\n",
              "      <td>0</td>\n",
              "    </tr>\n",
              "    <tr>\n",
              "      <th>team_id</th>\n",
              "      <td>TRH</td>\n",
              "      <td>NYK</td>\n",
              "      <td>CHS</td>\n",
              "      <td>NYK</td>\n",
              "      <td>DTF</td>\n",
              "    </tr>\n",
              "    <tr>\n",
              "      <th>fran_id</th>\n",
              "      <td>Huskies</td>\n",
              "      <td>Knicks</td>\n",
              "      <td>Stags</td>\n",
              "      <td>Knicks</td>\n",
              "      <td>Falcons</td>\n",
              "    </tr>\n",
              "    <tr>\n",
              "      <th>pts</th>\n",
              "      <td>66</td>\n",
              "      <td>68</td>\n",
              "      <td>63</td>\n",
              "      <td>47</td>\n",
              "      <td>33</td>\n",
              "    </tr>\n",
              "    <tr>\n",
              "      <th>elo_i</th>\n",
              "      <td>1300</td>\n",
              "      <td>1300</td>\n",
              "      <td>1300</td>\n",
              "      <td>1306.72</td>\n",
              "      <td>1300</td>\n",
              "    </tr>\n",
              "    <tr>\n",
              "      <th>elo_n</th>\n",
              "      <td>1293.28</td>\n",
              "      <td>1306.72</td>\n",
              "      <td>1309.65</td>\n",
              "      <td>1297.07</td>\n",
              "      <td>1279.62</td>\n",
              "    </tr>\n",
              "    <tr>\n",
              "      <th>win_equiv</th>\n",
              "      <td>40.2948</td>\n",
              "      <td>41.7052</td>\n",
              "      <td>42.0123</td>\n",
              "      <td>40.6928</td>\n",
              "      <td>38.864</td>\n",
              "    </tr>\n",
              "    <tr>\n",
              "      <th>opp_id</th>\n",
              "      <td>NYK</td>\n",
              "      <td>TRH</td>\n",
              "      <td>NYK</td>\n",
              "      <td>CHS</td>\n",
              "      <td>WSC</td>\n",
              "    </tr>\n",
              "    <tr>\n",
              "      <th>opp_fran</th>\n",
              "      <td>Knicks</td>\n",
              "      <td>Huskies</td>\n",
              "      <td>Knicks</td>\n",
              "      <td>Stags</td>\n",
              "      <td>Capitols</td>\n",
              "    </tr>\n",
              "    <tr>\n",
              "      <th>opp_pts</th>\n",
              "      <td>68</td>\n",
              "      <td>66</td>\n",
              "      <td>47</td>\n",
              "      <td>63</td>\n",
              "      <td>50</td>\n",
              "    </tr>\n",
              "    <tr>\n",
              "      <th>opp_elo_i</th>\n",
              "      <td>1300</td>\n",
              "      <td>1300</td>\n",
              "      <td>1306.72</td>\n",
              "      <td>1300</td>\n",
              "      <td>1300</td>\n",
              "    </tr>\n",
              "    <tr>\n",
              "      <th>opp_elo_n</th>\n",
              "      <td>1306.72</td>\n",
              "      <td>1293.28</td>\n",
              "      <td>1297.07</td>\n",
              "      <td>1309.65</td>\n",
              "      <td>1320.38</td>\n",
              "    </tr>\n",
              "    <tr>\n",
              "      <th>game_location</th>\n",
              "      <td>H</td>\n",
              "      <td>A</td>\n",
              "      <td>H</td>\n",
              "      <td>A</td>\n",
              "      <td>H</td>\n",
              "    </tr>\n",
              "    <tr>\n",
              "      <th>game_result</th>\n",
              "      <td>L</td>\n",
              "      <td>W</td>\n",
              "      <td>W</td>\n",
              "      <td>L</td>\n",
              "      <td>L</td>\n",
              "    </tr>\n",
              "    <tr>\n",
              "      <th>forecast</th>\n",
              "      <td>0.640065</td>\n",
              "      <td>0.359935</td>\n",
              "      <td>0.631101</td>\n",
              "      <td>0.368899</td>\n",
              "      <td>0.640065</td>\n",
              "    </tr>\n",
              "    <tr>\n",
              "      <th>notes</th>\n",
              "      <td>NaN</td>\n",
              "      <td>NaN</td>\n",
              "      <td>NaN</td>\n",
              "      <td>NaN</td>\n",
              "      <td>NaN</td>\n",
              "    </tr>\n",
              "  </tbody>\n",
              "</table>\n",
              "</div>"
            ],
            "text/plain": [
              "                          0             1  ...             3             4\n",
              "gameorder                 1             1  ...             2             3\n",
              "game_id        194611010TRH  194611010TRH  ...  194611020CHS  194611020DTF\n",
              "lg_id                   NBA           NBA  ...           NBA           NBA\n",
              "_iscopy                   0             1  ...             1             0\n",
              "year_id                1947          1947  ...          1947          1947\n",
              "date_game         11/1/1946     11/1/1946  ...     11/2/1946     11/2/1946\n",
              "seasongame                1             1  ...             2             1\n",
              "is_playoffs               0             0  ...             0             0\n",
              "team_id                 TRH           NYK  ...           NYK           DTF\n",
              "fran_id             Huskies        Knicks  ...        Knicks       Falcons\n",
              "pts                      66            68  ...            47            33\n",
              "elo_i                  1300          1300  ...       1306.72          1300\n",
              "elo_n               1293.28       1306.72  ...       1297.07       1279.62\n",
              "win_equiv           40.2948       41.7052  ...       40.6928        38.864\n",
              "opp_id                  NYK           TRH  ...           CHS           WSC\n",
              "opp_fran             Knicks       Huskies  ...         Stags      Capitols\n",
              "opp_pts                  68            66  ...            63            50\n",
              "opp_elo_i              1300          1300  ...          1300          1300\n",
              "opp_elo_n           1306.72       1293.28  ...       1309.65       1320.38\n",
              "game_location             H             A  ...             A             H\n",
              "game_result               L             W  ...             L             L\n",
              "forecast           0.640065      0.359935  ...      0.368899      0.640065\n",
              "notes                   NaN           NaN  ...           NaN           NaN\n",
              "\n",
              "[23 rows x 5 columns]"
            ]
          },
          "metadata": {
            "tags": []
          },
          "execution_count": 27
        }
      ]
    },
    {
      "cell_type": "markdown",
      "metadata": {
        "id": "Yzv6mnWvG18p"
      },
      "source": [
        "## Basic Pandas functions for EDA"
      ]
    },
    {
      "cell_type": "markdown",
      "metadata": {
        "id": "uDL0c9EaG18p"
      },
      "source": [
        "You don't have to be all fancy and smart to perform basic EDA. Most of EDA features several basic operations, and Pandas the process accessible."
      ]
    },
    {
      "cell_type": "markdown",
      "metadata": {
        "id": "u0ck-Y-NG18p"
      },
      "source": [
        "## Basic descriptive statistics"
      ]
    },
    {
      "cell_type": "markdown",
      "metadata": {
        "id": "Plq5B0vXG18q"
      },
      "source": [
        "[Mean](https://pandas.pydata.org/pandas-docs/stable/reference/api/pandas.DataFrame.mean.html) value, [Median](https://pandas.pydata.org/pandas-docs/stable/reference/api/pandas.DataFrame.median.html) value, [standard deviation](https://pandas.pydata.org/pandas-docs/stable/reference/api/pandas.DataFrame.std.html), [minimum](https://pandas.pydata.org/pandas-docs/stable/reference/api/pandas.DataFrame.min.html), [maximum](https://pandas.pydata.org/pandas-docs/stable/reference/api/pandas.DataFrame.max.html) values, [quantiles](https://pandas.pydata.org/pandas-docs/stable/reference/api/pandas.DataFrame.quantile.html). These are the data properties you should explore first."
      ]
    },
    {
      "cell_type": "code",
      "metadata": {
        "colab": {
          "base_uri": "https://localhost:8080/"
        },
        "id": "vbtHntZKNS8s",
        "outputId": "b7bee1d6-7417-4f79-ff0a-99df8941e51a"
      },
      "source": [
        "print('Mean:')\n",
        "df1['pts'].mean()"
      ],
      "execution_count": 28,
      "outputs": [
        {
          "output_type": "stream",
          "text": [
            "Mean:\n"
          ],
          "name": "stdout"
        },
        {
          "output_type": "execute_result",
          "data": {
            "text/plain": [
              "102.72998242475101"
            ]
          },
          "metadata": {
            "tags": []
          },
          "execution_count": 28
        }
      ]
    },
    {
      "cell_type": "code",
      "metadata": {
        "colab": {
          "base_uri": "https://localhost:8080/"
        },
        "id": "NOE9_Fq8Pn9W",
        "outputId": "14470c09-b146-4e98-88d9-2d2ea18ba031"
      },
      "source": [
        "print('Median:')\n",
        "df1['pts'].median()"
      ],
      "execution_count": 29,
      "outputs": [
        {
          "output_type": "stream",
          "text": [
            "Median:\n"
          ],
          "name": "stdout"
        },
        {
          "output_type": "execute_result",
          "data": {
            "text/plain": [
              "103.0"
            ]
          },
          "metadata": {
            "tags": []
          },
          "execution_count": 29
        }
      ]
    },
    {
      "cell_type": "code",
      "metadata": {
        "colab": {
          "base_uri": "https://localhost:8080/"
        },
        "id": "N-dnkWdtdoBH",
        "outputId": "07465335-e42b-4438-b425-53e8cdf1eb3b"
      },
      "source": [
        "print('Mode:')\n",
        "df1['pts'].mode()"
      ],
      "execution_count": 30,
      "outputs": [
        {
          "output_type": "stream",
          "text": [
            "Mode:\n"
          ],
          "name": "stdout"
        },
        {
          "output_type": "execute_result",
          "data": {
            "text/plain": [
              "0    102\n",
              "dtype: int64"
            ]
          },
          "metadata": {
            "tags": []
          },
          "execution_count": 30
        }
      ]
    },
    {
      "cell_type": "code",
      "metadata": {
        "colab": {
          "base_uri": "https://localhost:8080/"
        },
        "id": "Yv6p86DSPtyH",
        "outputId": "2b37d977-76e5-4f8c-953f-afba906080c3"
      },
      "source": [
        "print('Standard deviation:')\n",
        "df1['pts'].std()"
      ],
      "execution_count": 31,
      "outputs": [
        {
          "output_type": "stream",
          "text": [
            "Standard deviation:\n"
          ],
          "name": "stdout"
        },
        {
          "output_type": "execute_result",
          "data": {
            "text/plain": [
              "14.81484465438546"
            ]
          },
          "metadata": {
            "tags": []
          },
          "execution_count": 31
        }
      ]
    },
    {
      "cell_type": "code",
      "metadata": {
        "colab": {
          "base_uri": "https://localhost:8080/"
        },
        "id": "e8tGDWUwPxvj",
        "outputId": "f82447c1-6111-4bb1-d30b-7b0244c185b4"
      },
      "source": [
        "print('Minimum:')\n",
        "df1['pts'].min()"
      ],
      "execution_count": 32,
      "outputs": [
        {
          "output_type": "stream",
          "text": [
            "Minimum:\n"
          ],
          "name": "stdout"
        },
        {
          "output_type": "execute_result",
          "data": {
            "text/plain": [
              "0"
            ]
          },
          "metadata": {
            "tags": []
          },
          "execution_count": 32
        }
      ]
    },
    {
      "cell_type": "code",
      "metadata": {
        "colab": {
          "base_uri": "https://localhost:8080/"
        },
        "id": "Lr78V00KP1lY",
        "outputId": "aba2ca59-1ba9-4e91-c94e-bc7cd807df67"
      },
      "source": [
        "print('Maximum:')\n",
        "df1['pts'].max()"
      ],
      "execution_count": 33,
      "outputs": [
        {
          "output_type": "stream",
          "text": [
            "Maximum:\n"
          ],
          "name": "stdout"
        },
        {
          "output_type": "execute_result",
          "data": {
            "text/plain": [
              "186"
            ]
          },
          "metadata": {
            "tags": []
          },
          "execution_count": 33
        }
      ]
    },
    {
      "cell_type": "code",
      "metadata": {
        "colab": {
          "base_uri": "https://localhost:8080/"
        },
        "id": "RX06OuySP1cY",
        "outputId": "d006bd90-c8f9-4b58-f90d-e9c19e1e5de4"
      },
      "source": [
        "print('Quantile:')\n",
        "df1['pts'].quantile()"
      ],
      "execution_count": 34,
      "outputs": [
        {
          "output_type": "stream",
          "text": [
            "Quantile:\n"
          ],
          "name": "stdout"
        },
        {
          "output_type": "execute_result",
          "data": {
            "text/plain": [
              "103.0"
            ]
          },
          "metadata": {
            "tags": []
          },
          "execution_count": 34
        }
      ]
    },
    {
      "cell_type": "markdown",
      "metadata": {
        "id": "aMLl04jiG18q"
      },
      "source": [
        "### Exercise - exploring the scores"
      ]
    },
    {
      "cell_type": "markdown",
      "metadata": {
        "id": "xuk5vPkPG18q"
      },
      "source": [
        "Calculate the mean `avg_pts`, `median_pts`, minimum `min_pts` and maximum `max_pts` values of points scored by NBA players using the dataset loaded before. To make things spicy, calculate quantiles at every 5% `quantiles`. How does the distribution look like? Why?"
      ]
    },
    {
      "cell_type": "code",
      "metadata": {
        "colab": {
          "base_uri": "https://localhost:8080/"
        },
        "id": "mXhaGBk1Y7eV",
        "outputId": "ba386920-3e79-4acf-e58c-d42401e92a1c"
      },
      "source": [
        "avg_pts = df1['pts'].mean()\n",
        "print(avg_pts)\n",
        "median_pts = df1['pts'].median()\n",
        "print(median_pts)\n",
        "min_pts = df1['pts'].min()\n",
        "print(min_pts)\n",
        "max_pts = df1['pts'].max()\n",
        "print(max_pts)\n",
        "\n",
        "quantiles = []\n",
        "for i in range(0, 100, 5):\n",
        "    number = i/100\n",
        "    count_quantiles = df1['pts'].quantile(number) \n",
        "    quantiles.append(count_quantiles)\n",
        "print(quantiles)"
      ],
      "execution_count": 35,
      "outputs": [
        {
          "output_type": "stream",
          "text": [
            "102.72998242475101\n",
            "103.0\n",
            "0\n",
            "186\n",
            "[0.0, 79.0, 84.0, 88.0, 91.0, 93.0, 95.0, 97.0, 99.0, 101.0, 103.0, 104.0, 106.0, 108.0, 110.0, 112.0, 115.0, 118.0, 122.0, 127.0]\n"
          ],
          "name": "stdout"
        }
      ]
    },
    {
      "cell_type": "code",
      "metadata": {
        "colab": {
          "base_uri": "https://localhost:8080/"
        },
        "id": "JOWLWX4oii1T",
        "outputId": "84ec387c-3bfe-4efd-c745-c8832c3b93bc"
      },
      "source": [
        "df1['pts'].duplicated()"
      ],
      "execution_count": 36,
      "outputs": [
        {
          "output_type": "execute_result",
          "data": {
            "text/plain": [
              "0         False\n",
              "1         False\n",
              "2         False\n",
              "3         False\n",
              "4         False\n",
              "          ...  \n",
              "126309     True\n",
              "126310     True\n",
              "126311     True\n",
              "126312     True\n",
              "126313     True\n",
              "Name: pts, Length: 126314, dtype: bool"
            ]
          },
          "metadata": {
            "tags": []
          },
          "execution_count": 36
        }
      ]
    },
    {
      "cell_type": "code",
      "metadata": {
        "id": "CFlHTs9BG18q"
      },
      "source": [
        "import numpy as np\n",
        "\n",
        "assert round(avg_pts, 1) == 102.7\n",
        "assert round(median_pts, 1) == 103\n",
        "np.testing.assert_array_almost_equal(quantiles,  \n",
        "  [0.0,\n",
        "  79.0,\n",
        "  84.0,\n",
        "  88.0,\n",
        "  91.0,\n",
        "  93.0,\n",
        "  95.0,\n",
        "  97.0,\n",
        "  99.0,\n",
        "  101.0,\n",
        "  103.0,\n",
        "  104.0,\n",
        "  106.0,\n",
        "  108.0,\n",
        "  110.0,\n",
        "  112.0,\n",
        "  115.0,\n",
        "  118.0,\n",
        "  122.0,\n",
        "  127.0])\n",
        "assert round(max_pts, 2) == 186\n",
        "assert round(min_pts, 2) == 0"
      ],
      "execution_count": 37,
      "outputs": []
    },
    {
      "cell_type": "markdown",
      "metadata": {
        "id": "fsG3FEUzG18q"
      },
      "source": [
        "## Grouping, Aggregations"
      ]
    },
    {
      "cell_type": "markdown",
      "metadata": {
        "id": "6RcpD6cnG18r"
      },
      "source": [
        "Read this [tutorial](https://jakevdp.github.io/PythonDataScienceHandbook/03.08-aggregation-and-grouping.html#GroupBy:-Split,-Apply,-Combine) from Data Science Handbook to get familiar with the philosophy of groupby and the API of grouping in Pandas."
      ]
    },
    {
      "cell_type": "markdown",
      "metadata": {
        "id": "YD6nS2msG18r"
      },
      "source": [
        "### Exercise - slice and measure"
      ]
    },
    {
      "cell_type": "markdown",
      "metadata": {
        "id": "l-kEXK0VG18r"
      },
      "source": [
        "Global statistics are biased - not all teams score 100 points per game, some teams performs above average.\n",
        "\n",
        "Find 5 teams (by fran_id) with most average points scored per game. Save as `five_best_teams`."
      ]
    },
    {
      "cell_type": "code",
      "metadata": {
        "colab": {
          "base_uri": "https://localhost:8080/"
        },
        "id": "Yi36idGFAzWu",
        "outputId": "5dc3f6a9-20b7-4d07-9122-795d85b56b42"
      },
      "source": [
        "five_best_teams = df1[['fran_id','pts']].groupby('fran_id').mean().nlargest(5,['pts'])\n",
        "print(five_best_teams)"
      ],
      "execution_count": 38,
      "outputs": [
        {
          "output_type": "stream",
          "text": [
            "                   pts\n",
            "fran_id               \n",
            "Condors     115.446512\n",
            "Squires     114.051314\n",
            "Floridians  112.654545\n",
            "Stars       112.354497\n",
            "Colonels    111.625296\n"
          ],
          "name": "stdout"
        }
      ]
    },
    {
      "cell_type": "code",
      "metadata": {
        "id": "xIYPhFH7G18r"
      },
      "source": [
        "np.testing.assert_array_almost_equal(five_best_teams[\"pts\"].values, [115.44651163, 114.05131414, 112.65454545, 112.35449735, 111.62529551])"
      ],
      "execution_count": 39,
      "outputs": []
    },
    {
      "cell_type": "markdown",
      "metadata": {
        "id": "8u_uhy4cG18r"
      },
      "source": [
        "## Basic Visualizations"
      ]
    },
    {
      "cell_type": "markdown",
      "metadata": {
        "id": "GXuxno3kG18s"
      },
      "source": [
        "Although at the end of this week you will have learned some fancy ways of visualizing data with matplotlib and Seaborn, Pandas exposes some basic visualization API, which is quite useful for many basic cases."
      ]
    },
    {
      "cell_type": "markdown",
      "metadata": {
        "id": "QlS-0iiXG18s"
      },
      "source": [
        "Let's start with some readings. Go through a official Pandas [tutorial](https://pandas.pydata.org/docs/user_guide/visualization.html) on the visualizations API. Copy-paste the code, try to run it in the notebook."
      ]
    },
    {
      "cell_type": "markdown",
      "metadata": {
        "id": "GXAZEkWtG18s"
      },
      "source": [
        "### Exercise - let's visualize the games!"
      ]
    },
    {
      "cell_type": "markdown",
      "metadata": {
        "id": "ML_jzE_UG18s"
      },
      "source": [
        "Visualize top 10 teams who score most / least on average per play. Use a bar chart for that."
      ]
    },
    {
      "cell_type": "markdown",
      "metadata": {
        "id": "wPqEjfRO7IU4"
      },
      "source": [
        "##10 Highest score teams"
      ]
    },
    {
      "cell_type": "code",
      "metadata": {
        "id": "gPqVBG0Yi3rG"
      },
      "source": [
        "import matplotlib.pyplot as plt"
      ],
      "execution_count": 40,
      "outputs": []
    },
    {
      "cell_type": "code",
      "metadata": {
        "colab": {
          "base_uri": "https://localhost:8080/"
        },
        "id": "lYvCOrxE-txV",
        "outputId": "f3609769-234c-4d16-aced-d23c560ac29e"
      },
      "source": [
        "ten_best_teams_raw = df1[['fran_id','pts']].groupby('fran_id').mean().nlargest(10,['pts']).values\n",
        "ten_best_teams_scores = [value.item() for value in ten_best_teams_raw]\n",
        "print(ten_best_teams_scores)"
      ],
      "execution_count": 42,
      "outputs": [
        {
          "output_type": "stream",
          "text": [
            "[115.44651162790697, 114.05131414267835, 112.65454545454546, 112.35449735449735, 111.62529550827423, 110.51994851994851, 109.78102189781022, 108.4390243902439, 108.19902912621359, 107.22696078431373]\n"
          ],
          "name": "stdout"
        }
      ]
    },
    {
      "cell_type": "code",
      "metadata": {
        "id": "acyfiI3aEiYQ"
      },
      "source": [
        "ten_best_teams_raw = df1[['fran_id','pts']].groupby('fran_id').mean().nlargest(10,['pts'])\n",
        "ten_best_teams = ten_best_teams_raw.index.tolist()"
      ],
      "execution_count": 43,
      "outputs": []
    },
    {
      "cell_type": "code",
      "metadata": {
        "colab": {
          "base_uri": "https://localhost:8080/",
          "height": 391
        },
        "id": "GJzZHkuhjGcn",
        "outputId": "5fd94ff9-70b2-42e4-ad45-b7e60da1d8b7"
      },
      "source": [
        "fig = plt.figure()\n",
        "ax = fig.add_axes([0,0,1,1])\n",
        "ax.bar(ten_best_teams,ten_best_teams_scores, label='pts')\n",
        "plt.xlabel('fran_id')\n",
        "plt.xticks(rotation=90)\n",
        "plt.legend()\n",
        "\n",
        "plt.show()"
      ],
      "execution_count": 74,
      "outputs": [
        {
          "output_type": "display_data",
          "data": {
            "image/png": "[encoded data removed]",
            "text/plain": [
              "<Figure size 432x288 with 1 Axes>"
            ]
          },
          "metadata": {
            "tags": [],
            "needs_background": "light"
          }
        }
      ]
    },
    {
      "cell_type": "markdown",
      "metadata": {
        "id": "B_HMoz8D69to"
      },
      "source": [
        "## 10 Lowest score teams"
      ]
    },
    {
      "cell_type": "code",
      "metadata": {
        "colab": {
          "base_uri": "https://localhost:8080/"
        },
        "id": "YO7jp2i96YIJ",
        "outputId": "0e030fe4-af8b-42b6-8333-9de2e2d93bfc"
      },
      "source": [
        "ten_smallest_teams_raw = df1[['fran_id','pts']].groupby('fran_id').mean().nsmallest(10,['pts']).values\n",
        "ten_smallest_teams_scores = [value.item() for value in ten_smallest_teams_raw]\n",
        "print(ten_smallest_teams_scores)"
      ],
      "execution_count": 75,
      "outputs": [
        {
          "output_type": "stream",
          "text": [
            "[61.233333333333334, 63.28333333333333, 66.58333333333333, 71.01587301587301, 71.4578313253012, 73.64285714285714, 74.7, 76.93127147766323, 77.70967741935483, 78.45384615384616]\n"
          ],
          "name": "stdout"
        }
      ]
    },
    {
      "cell_type": "code",
      "metadata": {
        "id": "1A9EYKPZ6aKo"
      },
      "source": [
        "ten_smallest_teams_raw = df1[['fran_id','pts']].groupby('fran_id').mean().nsmallest(10,['pts'])\n",
        "ten_smallest_teams = ten_smallest_teams_raw.index.tolist()"
      ],
      "execution_count": 76,
      "outputs": []
    },
    {
      "cell_type": "code",
      "metadata": {
        "colab": {
          "base_uri": "https://localhost:8080/",
          "height": 404
        },
        "id": "ixHRnJxW6b9x",
        "outputId": "4965c396-754a-435b-bb03-feea7a296970"
      },
      "source": [
        "fig = plt.figure()\n",
        "ax = fig.add_axes([0,0,1,1])\n",
        "ax.bar(ten_smallest_teams,ten_smallest_teams_scores, label='pts')\n",
        "plt.xlabel('fran_id')\n",
        "plt.xticks(rotation=90)\n",
        "plt.legend()\n",
        "\n",
        "plt.show()"
      ],
      "execution_count": 77,
      "outputs": [
        {
          "output_type": "display_data",
          "data": {
            "image/png": "[encoded data removed]",
            "text/plain": [
              "<Figure size 432x288 with 1 Axes>"
            ]
          },
          "metadata": {
            "tags": [],
            "needs_background": "light"
          }
        }
      ]
    },
    {
      "cell_type": "markdown",
      "metadata": {
        "id": "8oyxFU8EG18s"
      },
      "source": [
        "You should see a result as follows:\n",
        "<div><img src=\"https://i.imgur.com/io7fvju.png\" /></div>"
      ]
    },
    {
      "cell_type": "markdown",
      "metadata": {
        "id": "dW8b6nxfG18t"
      },
      "source": [
        "You should see a result as follows:\n",
        "<div><img src=\"https://i.imgur.com/6VXMksY.png\" /></div>"
      ]
    },
    {
      "cell_type": "markdown",
      "metadata": {
        "id": "bnqipGIf7Rkl"
      },
      "source": [
        "## All teams scores"
      ]
    },
    {
      "cell_type": "code",
      "metadata": {
        "colab": {
          "base_uri": "https://localhost:8080/"
        },
        "id": "apT97Fj84R6o",
        "outputId": "e63c46ba-9b6e-4572-d207-e1d7c4f159b6"
      },
      "source": [
        "all_teams_raw = df1[['fran_id','pts']].groupby('fran_id').mean().nlargest(len(all_teams),['pts'])\n",
        "all_teams = all_teams_raw.index.tolist()\n",
        "print(len(all_teams))"
      ],
      "execution_count": 78,
      "outputs": [
        {
          "output_type": "stream",
          "text": [
            "53\n"
          ],
          "name": "stdout"
        }
      ]
    },
    {
      "cell_type": "code",
      "metadata": {
        "colab": {
          "base_uri": "https://localhost:8080/"
        },
        "id": "nLJ8tuYr2fR_",
        "outputId": "b274f9fd-d832-4866-c7d9-79401e93cb04"
      },
      "source": [
        "all_teams_scores_raw = df1[['fran_id','pts']].groupby('fran_id').mean().nsmallest(len(all_teams),['pts']).values\n",
        "all_teams_scores = [value.item() for value in all_teams_scores_raw]\n",
        "print(all_teams_scores)"
      ],
      "execution_count": 79,
      "outputs": [
        {
          "output_type": "stream",
          "text": [
            "[61.233333333333334, 63.28333333333333, 66.58333333333333, 71.01587301587301, 71.4578313253012, 73.64285714285714, 74.7, 76.93127147766323, 77.70967741935483, 78.45384615384616, 79.37096774193549, 79.69807280513919, 81.07801418439716, 82.64615384615385, 86.01388888888889, 94.50671140939598, 95.16173808086904, 96.62716153521721, 96.92166462668298, 97.46269357109338, 97.95652173913044, 99.42727684639783, 99.84671916010498, 100.97018547408562, 101.37309734513275, 101.52519154864174, 101.75572333170969, 101.80563531945441, 101.93490490222341, 102.15330520393812, 102.63491536674411, 103.6248363160192, 103.68772178850249, 103.70004957858205, 103.80776045357902, 103.9716894977169, 104.05555555555556, 104.11747713047664, 104.46623311655829, 104.51193211949797, 104.77142173288655, 105.31956370387562, 105.81739707835325, 107.22696078431373, 108.19902912621359, 108.4390243902439, 109.78102189781022, 110.51994851994851, 111.62529550827423, 112.35449735449735, 112.65454545454546, 114.05131414267835, 115.44651162790697]\n"
          ],
          "name": "stdout"
        }
      ]
    },
    {
      "cell_type": "code",
      "metadata": {
        "colab": {
          "base_uri": "https://localhost:8080/",
          "height": 411
        },
        "id": "1oLNc9jH35Hp",
        "outputId": "c12e8791-c09a-44fb-c3d9-c1a44fa453e5"
      },
      "source": [
        "fig = plt.figure()\n",
        "ax = fig.add_axes([0,0,1,1])\n",
        "ax.bar(all_teams,all_teams_scores, label='pts')\n",
        "plt.xlabel('fran_id')\n",
        "plt.xticks(rotation=90)\n",
        "plt.legend()\n",
        "\n",
        "plt.show()"
      ],
      "execution_count": 80,
      "outputs": [
        {
          "output_type": "display_data",
          "data": {
            "image/png": "[encoded data removed]",
            "text/plain": [
              "<Figure size 432x288 with 1 Axes>"
            ]
          },
          "metadata": {
            "tags": [],
            "needs_background": "light"
          }
        }
      ]
    },
    {
      "cell_type": "markdown",
      "metadata": {
        "id": "raaon4SNG18t"
      },
      "source": [
        "Now try to visualize all team scores the same way."
      ]
    },
    {
      "cell_type": "markdown",
      "metadata": {
        "id": "OVB5_ciGG18t"
      },
      "source": [
        "You should see a result as follows:\n",
        "<div><img src=\"https://i.imgur.com/L2iTGuC.png\" /></div>"
      ]
    },
    {
      "cell_type": "markdown",
      "metadata": {
        "id": "WzwAyhfRG18t"
      },
      "source": [
        "The results do not seem that intriguing. Although, it seems that the slope of 60-95 scoring teams and 100-120 is steeper than mid-section of the curve. Which indicates that most teams score around 100 points.\n",
        "\n",
        "A histogram could enhance these frequency differences. Plot the data with a `hist` type with 20 bins. Would you guess what kind of distribution does it (nearly) follow?"
      ]
    },
    {
      "cell_type": "markdown",
      "metadata": {
        "id": "Eqdury8S8zuU"
      },
      "source": [
        "## Histogram"
      ]
    },
    {
      "cell_type": "code",
      "metadata": {
        "colab": {
          "base_uri": "https://localhost:8080/",
          "height": 265
        },
        "id": "GCY8S6_O8u4l",
        "outputId": "0855dcea-44dd-4da2-b051-476308e0e3d9"
      },
      "source": [
        "plt.hist(all_teams_scores, bins=20, label='pts')\n",
        "plt.ylabel('Frequency')\n",
        "plt.legend()\n",
        "plt.show()"
      ],
      "execution_count": 91,
      "outputs": [
        {
          "output_type": "display_data",
          "data": {
            "image/png": "[encoded data removed]",
            "text/plain": [
              "<Figure size 432x288 with 1 Axes>"
            ]
          },
          "metadata": {
            "tags": [],
            "needs_background": "light"
          }
        }
      ]
    },
    {
      "cell_type": "markdown",
      "metadata": {
        "id": "GO1FSYhwG18t"
      },
      "source": [
        "You should see a result as follows:\n",
        "<div><img src=\"https://i.imgur.com/Pc3sUKN.png\"/></div>"
      ]
    },
    {
      "cell_type": "markdown",
      "metadata": {
        "id": "7n9dh3KnG18t"
      },
      "source": [
        "Seems like most teams do score ~100 - 105 points per game. The kind of distribution on the right is called a skewed Normal Distribution."
      ]
    },
    {
      "cell_type": "markdown",
      "metadata": {
        "id": "yqUYuXDLG18t"
      },
      "source": [
        "There's one more often used plot type to explore - a **line chart**. Your task is to visualize Los Angeles Lakers wins per years. Which year has been most successful for the team?"
      ]
    },
    {
      "cell_type": "markdown",
      "metadata": {
        "id": "kQN7ceQX-KUS"
      },
      "source": [
        "## LAL success period"
      ]
    },
    {
      "cell_type": "code",
      "metadata": {
        "id": "8zmXg5az-meK"
      },
      "source": [
        "lal_raw_data = df1.loc[df1['team_id'] == \"LAL\"]\n",
        "years = year_win_data['year_id'].drop_duplicates().to_list()\n",
        "win_raw = lal_raw_data[['year_id', 'win_equiv']].groupby('year_id').mean().nsmallest(len(years),['win_equiv']).values"
      ],
      "execution_count": 142,
      "outputs": []
    },
    {
      "cell_type": "code",
      "metadata": {
        "colab": {
          "base_uri": "https://localhost:8080/",
          "height": 295
        },
        "id": "snFpYBQu-HRR",
        "outputId": "3522896e-2706-41ca-d6b8-7afefe15486d"
      },
      "source": [
        "plt.plot(years, win_raw, label=\"wins\")\n",
        "plt.plot()\n",
        "\n",
        "plt.xlabel(\"years\")\n",
        "plt.ylabel(\"wins\")\n",
        "plt.title(\"Los Angeles Lakers wins per years\")\n",
        "plt.legend()\n",
        "plt.show()"
      ],
      "execution_count": 143,
      "outputs": [
        {
          "output_type": "display_data",
          "data": {
            "image/png": "[encoded data removed]",
            "text/plain": [
              "<Figure size 432x288 with 1 Axes>"
            ]
          },
          "metadata": {
            "tags": [],
            "needs_background": "light"
          }
        }
      ]
    },
    {
      "cell_type": "markdown",
      "metadata": {
        "id": "dpM8Q3Q5G18u"
      },
      "source": [
        "From the chart, it should be clear that LAL success is periodic - 10 to 20 years they win about 80 times per year."
      ]
    },
    {
      "cell_type": "markdown",
      "metadata": {
        "id": "rCMrrLzlG18u"
      },
      "source": [
        "## Exercise"
      ]
    },
    {
      "cell_type": "markdown",
      "metadata": {
        "id": "3sdVCQdoG18u"
      },
      "source": [
        "For our last exercise for the day, we'll be exploring statistics of U.S. births."
      ]
    },
    {
      "cell_type": "markdown",
      "metadata": {
        "id": "RB1FB-63G18u"
      },
      "source": [
        "Here's the [link](https://raw.githubusercontent.com/fivethirtyeight/data/master/births/US_births_2000-2014_SSA.csv) to the dataset."
      ]
    },
    {
      "cell_type": "markdown",
      "metadata": {
        "id": "jUR2gTpoG18u"
      },
      "source": [
        "Your objective is to answer the following questions:\n",
        "\n",
        "* How does the month impact childbirth?\n",
        "* Have there been any significants ups / downs in chilbirth throughout the years? Could you explain them?\n",
        "* Which days of the week children are born most frequently on?\n",
        "* What's the lowest/biggest amount of childbirths per month?\n",
        "* Which months are most / least predictable in terms of childbirth? (hint - use standard deviation)\n",
        "\n",
        "Requirements:\n",
        "* Dataset is loaded from a remote CSV.\n",
        "* Basic EDA Pandas statistical functions are used (min, max, mean, std).\n",
        "* Grouping and aggregations.\n",
        "* Charts used: line, bar plot."
      ]
    },
    {
      "cell_type": "code",
      "metadata": {
        "id": "sW2I3NKrWr9w"
      },
      "source": [
        "import pandas as pd\n",
        "\n",
        "# U.S. Births EDA:\n",
        "url = 'https://raw.githubusercontent.com/fivethirtyeight/data/master/births/US_births_2000-2014_SSA.csv'\n",
        "\n",
        "data = pd.read_csv(url)\n",
        "df = pd.DataFrame(data)\n",
        "\n"
      ],
      "execution_count": 3,
      "outputs": []
    },
    {
      "cell_type": "markdown",
      "metadata": {
        "id": "GCFwU0q-YMXw"
      },
      "source": [
        ""
      ]
    },
    {
      "cell_type": "code",
      "metadata": {
        "colab": {
          "base_uri": "https://localhost:8080/"
        },
        "id": "zvQfYff4YOWH",
        "outputId": "a5f8f116-f611-4909-fa5a-52ad41670248"
      },
      "source": [
        "df.shape"
      ],
      "execution_count": 4,
      "outputs": [
        {
          "output_type": "execute_result",
          "data": {
            "text/plain": [
              "(5479, 5)"
            ]
          },
          "metadata": {
            "tags": []
          },
          "execution_count": 4
        }
      ]
    },
    {
      "cell_type": "code",
      "metadata": {
        "colab": {
          "base_uri": "https://localhost:8080/"
        },
        "id": "e7L2ELxBXz_Q",
        "outputId": "b8faef7d-c9a3-479b-ac1e-f9e153215d21"
      },
      "source": [
        "df.columns"
      ],
      "execution_count": 5,
      "outputs": [
        {
          "output_type": "execute_result",
          "data": {
            "text/plain": [
              "Index(['year', 'month', 'date_of_month', 'day_of_week', 'births'], dtype='object')"
            ]
          },
          "metadata": {
            "tags": []
          },
          "execution_count": 5
        }
      ]
    },
    {
      "cell_type": "markdown",
      "metadata": {
        "id": "cwbtJ9Bcd-of"
      },
      "source": [
        "## How does the month impact childbirth?"
      ]
    },
    {
      "cell_type": "code",
      "metadata": {
        "colab": {
          "base_uri": "https://localhost:8080/",
          "height": 457
        },
        "id": "L6pNrioveBk8",
        "outputId": "577e8714-01e0-44c8-8fbb-4af78e1200e3"
      },
      "source": [
        "df[['month','births']].groupby('month').mean().round(0)"
      ],
      "execution_count": 6,
      "outputs": [
        {
          "output_type": "execute_result",
          "data": {
            "text/html": [
              "<div>\n",
              "<style scoped>\n",
              "    .dataframe tbody tr th:only-of-type {\n",
              "        vertical-align: middle;\n",
              "    }\n",
              "\n",
              "    .dataframe tbody tr th {\n",
              "        vertical-align: top;\n",
              "    }\n",
              "\n",
              "    .dataframe thead th {\n",
              "        text-align: right;\n",
              "    }\n",
              "</style>\n",
              "<table border=\"1\" class=\"dataframe\">\n",
              "  <thead>\n",
              "    <tr style=\"text-align: right;\">\n",
              "      <th></th>\n",
              "      <th>births</th>\n",
              "    </tr>\n",
              "    <tr>\n",
              "      <th>month</th>\n",
              "      <th></th>\n",
              "    </tr>\n",
              "  </thead>\n",
              "  <tbody>\n",
              "    <tr>\n",
              "      <th>1</th>\n",
              "      <td>10909.0</td>\n",
              "    </tr>\n",
              "    <tr>\n",
              "      <th>2</th>\n",
              "      <td>11146.0</td>\n",
              "    </tr>\n",
              "    <tr>\n",
              "      <th>3</th>\n",
              "      <td>11125.0</td>\n",
              "    </tr>\n",
              "    <tr>\n",
              "      <th>4</th>\n",
              "      <td>11024.0</td>\n",
              "    </tr>\n",
              "    <tr>\n",
              "      <th>5</th>\n",
              "      <td>11173.0</td>\n",
              "    </tr>\n",
              "    <tr>\n",
              "      <th>6</th>\n",
              "      <td>11474.0</td>\n",
              "    </tr>\n",
              "    <tr>\n",
              "      <th>7</th>\n",
              "      <td>11721.0</td>\n",
              "    </tr>\n",
              "    <tr>\n",
              "      <th>8</th>\n",
              "      <td>11914.0</td>\n",
              "    </tr>\n",
              "    <tr>\n",
              "      <th>9</th>\n",
              "      <td>11999.0</td>\n",
              "    </tr>\n",
              "    <tr>\n",
              "      <th>10</th>\n",
              "      <td>11404.0</td>\n",
              "    </tr>\n",
              "    <tr>\n",
              "      <th>11</th>\n",
              "      <td>11131.0</td>\n",
              "    </tr>\n",
              "    <tr>\n",
              "      <th>12</th>\n",
              "      <td>11171.0</td>\n",
              "    </tr>\n",
              "  </tbody>\n",
              "</table>\n",
              "</div>"
            ],
            "text/plain": [
              "        births\n",
              "month         \n",
              "1      10909.0\n",
              "2      11146.0\n",
              "3      11125.0\n",
              "4      11024.0\n",
              "5      11173.0\n",
              "6      11474.0\n",
              "7      11721.0\n",
              "8      11914.0\n",
              "9      11999.0\n",
              "10     11404.0\n",
              "11     11131.0\n",
              "12     11171.0"
            ]
          },
          "metadata": {
            "tags": []
          },
          "execution_count": 6
        }
      ]
    },
    {
      "cell_type": "code",
      "metadata": {
        "id": "OIpaTIi0Io9l"
      },
      "source": [
        "import matplotlib.pyplot as plt\n",
        "\n",
        "childbirth_raw = df[['month','births']].groupby('month').mean().values\n",
        "\n",
        "childbirth = df[['month','births']].groupby('month').mean().round(0)\n",
        "months_list = childbirth.index.tolist()"
      ],
      "execution_count": 7,
      "outputs": []
    },
    {
      "cell_type": "code",
      "metadata": {
        "id": "Uux3UtGsKD3C"
      },
      "source": [
        "childbirth_raw = df[['month','births']].groupby('month').mean().values\n",
        "childbirth_number = [value.item() for value in childbirth_raw]"
      ],
      "execution_count": 8,
      "outputs": []
    },
    {
      "cell_type": "markdown",
      "metadata": {
        "id": "aovgZk50L_58"
      },
      "source": [
        "#Month impact on childbirth"
      ]
    },
    {
      "cell_type": "code",
      "metadata": {
        "colab": {
          "base_uri": "https://localhost:8080/",
          "height": 366
        },
        "id": "MFfGuDpyJBrs",
        "outputId": "b75bbadc-5171-4b1e-bad5-68e4a505c2ed"
      },
      "source": [
        "fig = plt.figure()\n",
        "ax = fig.add_axes([0,0,1,1])\n",
        "ax.bar(months_list, childbirth_number, label='Births', color='blue')\n",
        "plt.title('Month impact on childbirth')\n",
        "plt.xlabel('Months')\n",
        "plt.ylabel('Births')\n",
        "plt.legend()\n",
        "plt.show()\n",
        "\n",
        "plt.show()"
      ],
      "execution_count": 17,
      "outputs": [
        {
          "output_type": "display_data",
          "data": {
            "image/png": "[encoded data removed]",
            "text/plain": [
              "<Figure size 432x288 with 1 Axes>"
            ]
          },
          "metadata": {
            "tags": [],
            "needs_background": "light"
          }
        }
      ]
    },
    {
      "cell_type": "markdown",
      "metadata": {
        "id": "u7JExrRwepZD"
      },
      "source": [
        "##Have there been any significants ups / downs in chilbirth throughout the years? Could you explain them?"
      ]
    },
    {
      "cell_type": "code",
      "metadata": {
        "colab": {
          "base_uri": "https://localhost:8080/",
          "height": 551
        },
        "id": "-DoVm2TqerHn",
        "outputId": "e72c1272-dc56-4d61-a82a-ffc16df06c15"
      },
      "source": [
        "df[['year','births']].groupby('year').mean().round(0)"
      ],
      "execution_count": null,
      "outputs": [
        {
          "output_type": "execute_result",
          "data": {
            "text/html": [
              "<div>\n",
              "<style scoped>\n",
              "    .dataframe tbody tr th:only-of-type {\n",
              "        vertical-align: middle;\n",
              "    }\n",
              "\n",
              "    .dataframe tbody tr th {\n",
              "        vertical-align: top;\n",
              "    }\n",
              "\n",
              "    .dataframe thead th {\n",
              "        text-align: right;\n",
              "    }\n",
              "</style>\n",
              "<table border=\"1\" class=\"dataframe\">\n",
              "  <thead>\n",
              "    <tr style=\"text-align: right;\">\n",
              "      <th></th>\n",
              "      <th>births</th>\n",
              "    </tr>\n",
              "    <tr>\n",
              "      <th>year</th>\n",
              "      <th></th>\n",
              "    </tr>\n",
              "  </thead>\n",
              "  <tbody>\n",
              "    <tr>\n",
              "      <th>2000</th>\n",
              "      <td>11338.0</td>\n",
              "    </tr>\n",
              "    <tr>\n",
              "      <th>2001</th>\n",
              "      <td>11263.0</td>\n",
              "    </tr>\n",
              "    <tr>\n",
              "      <th>2002</th>\n",
              "      <td>11231.0</td>\n",
              "    </tr>\n",
              "    <tr>\n",
              "      <th>2003</th>\n",
              "      <td>11406.0</td>\n",
              "    </tr>\n",
              "    <tr>\n",
              "      <th>2004</th>\n",
              "      <td>11440.0</td>\n",
              "    </tr>\n",
              "    <tr>\n",
              "      <th>2005</th>\n",
              "      <td>11540.0</td>\n",
              "    </tr>\n",
              "    <tr>\n",
              "      <th>2006</th>\n",
              "      <td>11877.0</td>\n",
              "    </tr>\n",
              "    <tr>\n",
              "      <th>2007</th>\n",
              "      <td>12002.0</td>\n",
              "    </tr>\n",
              "    <tr>\n",
              "      <th>2008</th>\n",
              "      <td>11778.0</td>\n",
              "    </tr>\n",
              "    <tr>\n",
              "      <th>2009</th>\n",
              "      <td>11482.0</td>\n",
              "    </tr>\n",
              "    <tr>\n",
              "      <th>2010</th>\n",
              "      <td>11112.0</td>\n",
              "    </tr>\n",
              "    <tr>\n",
              "      <th>2011</th>\n",
              "      <td>10978.0</td>\n",
              "    </tr>\n",
              "    <tr>\n",
              "      <th>2012</th>\n",
              "      <td>10931.0</td>\n",
              "    </tr>\n",
              "    <tr>\n",
              "      <th>2013</th>\n",
              "      <td>10886.0</td>\n",
              "    </tr>\n",
              "    <tr>\n",
              "      <th>2014</th>\n",
              "      <td>10988.0</td>\n",
              "    </tr>\n",
              "  </tbody>\n",
              "</table>\n",
              "</div>"
            ],
            "text/plain": [
              "       births\n",
              "year         \n",
              "2000  11338.0\n",
              "2001  11263.0\n",
              "2002  11231.0\n",
              "2003  11406.0\n",
              "2004  11440.0\n",
              "2005  11540.0\n",
              "2006  11877.0\n",
              "2007  12002.0\n",
              "2008  11778.0\n",
              "2009  11482.0\n",
              "2010  11112.0\n",
              "2011  10978.0\n",
              "2012  10931.0\n",
              "2013  10886.0\n",
              "2014  10988.0"
            ]
          },
          "metadata": {
            "tags": []
          },
          "execution_count": 66
        }
      ]
    },
    {
      "cell_type": "markdown",
      "metadata": {
        "id": "HPtlBMB_fMNq"
      },
      "source": [
        "##Which days of the week children are born most frequently on?\n"
      ]
    },
    {
      "cell_type": "code",
      "metadata": {
        "colab": {
          "base_uri": "https://localhost:8080/",
          "height": 300
        },
        "id": "B70eUOSzfO2H",
        "outputId": "df1db805-0232-421b-c592-b37ee4952a8f"
      },
      "source": [
        "df[['day_of_week','births']].groupby('day_of_week').mean().round(0)"
      ],
      "execution_count": null,
      "outputs": [
        {
          "output_type": "execute_result",
          "data": {
            "text/html": [
              "<div>\n",
              "<style scoped>\n",
              "    .dataframe tbody tr th:only-of-type {\n",
              "        vertical-align: middle;\n",
              "    }\n",
              "\n",
              "    .dataframe tbody tr th {\n",
              "        vertical-align: top;\n",
              "    }\n",
              "\n",
              "    .dataframe thead th {\n",
              "        text-align: right;\n",
              "    }\n",
              "</style>\n",
              "<table border=\"1\" class=\"dataframe\">\n",
              "  <thead>\n",
              "    <tr style=\"text-align: right;\">\n",
              "      <th></th>\n",
              "      <th>births</th>\n",
              "    </tr>\n",
              "    <tr>\n",
              "      <th>day_of_week</th>\n",
              "      <th></th>\n",
              "    </tr>\n",
              "  </thead>\n",
              "  <tbody>\n",
              "    <tr>\n",
              "      <th>1</th>\n",
              "      <td>11898.0</td>\n",
              "    </tr>\n",
              "    <tr>\n",
              "      <th>2</th>\n",
              "      <td>13122.0</td>\n",
              "    </tr>\n",
              "    <tr>\n",
              "      <th>3</th>\n",
              "      <td>12911.0</td>\n",
              "    </tr>\n",
              "    <tr>\n",
              "      <th>4</th>\n",
              "      <td>12846.0</td>\n",
              "    </tr>\n",
              "    <tr>\n",
              "      <th>5</th>\n",
              "      <td>12596.0</td>\n",
              "    </tr>\n",
              "    <tr>\n",
              "      <th>6</th>\n",
              "      <td>8563.0</td>\n",
              "    </tr>\n",
              "    <tr>\n",
              "      <th>7</th>\n",
              "      <td>7518.0</td>\n",
              "    </tr>\n",
              "  </tbody>\n",
              "</table>\n",
              "</div>"
            ],
            "text/plain": [
              "              births\n",
              "day_of_week         \n",
              "1            11898.0\n",
              "2            13122.0\n",
              "3            12911.0\n",
              "4            12846.0\n",
              "5            12596.0\n",
              "6             8563.0\n",
              "7             7518.0"
            ]
          },
          "metadata": {
            "tags": []
          },
          "execution_count": 67
        }
      ]
    },
    {
      "cell_type": "markdown",
      "metadata": {
        "id": "xacKO-qtfPPC"
      },
      "source": [
        "##What's the lowest/biggest amount of childbirths per month?\n"
      ]
    },
    {
      "cell_type": "code",
      "metadata": {
        "colab": {
          "base_uri": "https://localhost:8080/",
          "height": 221
        },
        "id": "GgGj844EgbSg",
        "outputId": "fcd9e1bc-374b-466d-e16e-bc7f99e8abbc"
      },
      "source": [
        "biggest = df[['month','births']].max()\n",
        "lowest = df[['month','births']].min()\n",
        "print(f\"Biggest amount of childbirths per month: {biggest.values[1]}\")\n",
        "print(f\"Lowest amount of childbirths per month: {lowest.values[1]}\")"
      ],
      "execution_count": 52,
      "outputs": [
        {
          "output_type": "error",
          "ename": "NameError",
          "evalue": "ignored",
          "traceback": [
            "\u001b[0;31m---------------------------------------------------------------------------\u001b[0m",
            "\u001b[0;31mNameError\u001b[0m                                 Traceback (most recent call last)",
            "\u001b[0;32m<ipython-input-52-09983785aa0e>\u001b[0m in \u001b[0;36m<module>\u001b[0;34m()\u001b[0m\n\u001b[0;32m----> 1\u001b[0;31m \u001b[0mbiggest\u001b[0m \u001b[0;34m=\u001b[0m \u001b[0mdf\u001b[0m\u001b[0;34m[\u001b[0m\u001b[0;34m[\u001b[0m\u001b[0;34m'month'\u001b[0m\u001b[0;34m,\u001b[0m\u001b[0;34m'births'\u001b[0m\u001b[0;34m]\u001b[0m\u001b[0;34m]\u001b[0m\u001b[0;34m.\u001b[0m\u001b[0mmax\u001b[0m\u001b[0;34m(\u001b[0m\u001b[0;34m)\u001b[0m\u001b[0;34m\u001b[0m\u001b[0;34m\u001b[0m\u001b[0m\n\u001b[0m\u001b[1;32m      2\u001b[0m \u001b[0mlowest\u001b[0m \u001b[0;34m=\u001b[0m \u001b[0mdf\u001b[0m\u001b[0;34m[\u001b[0m\u001b[0;34m[\u001b[0m\u001b[0;34m'month'\u001b[0m\u001b[0;34m,\u001b[0m\u001b[0;34m'births'\u001b[0m\u001b[0;34m]\u001b[0m\u001b[0;34m]\u001b[0m\u001b[0;34m.\u001b[0m\u001b[0mmin\u001b[0m\u001b[0;34m(\u001b[0m\u001b[0;34m)\u001b[0m\u001b[0;34m\u001b[0m\u001b[0;34m\u001b[0m\u001b[0m\n\u001b[1;32m      3\u001b[0m \u001b[0mprint\u001b[0m\u001b[0;34m(\u001b[0m\u001b[0;34mf\"Biggest amount of childbirths per month: {biggest.values[1]}\"\u001b[0m\u001b[0;34m)\u001b[0m\u001b[0;34m\u001b[0m\u001b[0;34m\u001b[0m\u001b[0m\n\u001b[1;32m      4\u001b[0m \u001b[0mprint\u001b[0m\u001b[0;34m(\u001b[0m\u001b[0;34mf\"Lowest amount of childbirths per month: {lowest.values[1]}\"\u001b[0m\u001b[0;34m)\u001b[0m\u001b[0;34m\u001b[0m\u001b[0;34m\u001b[0m\u001b[0m\n",
            "\u001b[0;31mNameError\u001b[0m: name 'df' is not defined"
          ]
        }
      ]
    },
    {
      "cell_type": "markdown",
      "metadata": {
        "id": "rA-7Kiz-fSBW"
      },
      "source": [
        "##Which months are most / least predictable in terms of childbirth? (hint - use standard deviation)"
      ]
    },
    {
      "cell_type": "code",
      "metadata": {
        "id": "4gvgh1G6bT85"
      },
      "source": [
        "chart_data = df[['month','births']].groupby('month').std().round(2)\n",
        "most = df[['month','births']].groupby('month').std().round(2).max()\n",
        "least = df[['month','births']].groupby('month').std().round(2).min()"
      ],
      "execution_count": null,
      "outputs": []
    },
    {
      "cell_type": "code",
      "metadata": {
        "colab": {
          "base_uri": "https://localhost:8080/"
        },
        "id": "S9Om-FEVX1mK",
        "outputId": "d7354a6d-e0d9-4336-b312-605722a38dfb"
      },
      "source": [
        "df.shape"
      ],
      "execution_count": null,
      "outputs": [
        {
          "output_type": "execute_result",
          "data": {
            "text/plain": [
              "(5479, 5)"
            ]
          },
          "metadata": {
            "tags": []
          },
          "execution_count": 27
        }
      ]
    },
    {
      "cell_type": "code",
      "metadata": {
        "colab": {
          "base_uri": "https://localhost:8080/",
          "height": 206
        },
        "id": "aiyMXU-BX24H",
        "outputId": "11b18f16-42b3-43f7-c39a-93933ea62738"
      },
      "source": [
        "df.head(5)"
      ],
      "execution_count": null,
      "outputs": [
        {
          "output_type": "execute_result",
          "data": {
            "text/html": [
              "<div>\n",
              "<style scoped>\n",
              "    .dataframe tbody tr th:only-of-type {\n",
              "        vertical-align: middle;\n",
              "    }\n",
              "\n",
              "    .dataframe tbody tr th {\n",
              "        vertical-align: top;\n",
              "    }\n",
              "\n",
              "    .dataframe thead th {\n",
              "        text-align: right;\n",
              "    }\n",
              "</style>\n",
              "<table border=\"1\" class=\"dataframe\">\n",
              "  <thead>\n",
              "    <tr style=\"text-align: right;\">\n",
              "      <th></th>\n",
              "      <th>year</th>\n",
              "      <th>month</th>\n",
              "      <th>date_of_month</th>\n",
              "      <th>day_of_week</th>\n",
              "      <th>births</th>\n",
              "    </tr>\n",
              "  </thead>\n",
              "  <tbody>\n",
              "    <tr>\n",
              "      <th>5474</th>\n",
              "      <td>2014</td>\n",
              "      <td>12</td>\n",
              "      <td>27</td>\n",
              "      <td>6</td>\n",
              "      <td>8656</td>\n",
              "    </tr>\n",
              "    <tr>\n",
              "      <th>5475</th>\n",
              "      <td>2014</td>\n",
              "      <td>12</td>\n",
              "      <td>28</td>\n",
              "      <td>7</td>\n",
              "      <td>7724</td>\n",
              "    </tr>\n",
              "    <tr>\n",
              "      <th>5476</th>\n",
              "      <td>2014</td>\n",
              "      <td>12</td>\n",
              "      <td>29</td>\n",
              "      <td>1</td>\n",
              "      <td>12811</td>\n",
              "    </tr>\n",
              "    <tr>\n",
              "      <th>5477</th>\n",
              "      <td>2014</td>\n",
              "      <td>12</td>\n",
              "      <td>30</td>\n",
              "      <td>2</td>\n",
              "      <td>13634</td>\n",
              "    </tr>\n",
              "    <tr>\n",
              "      <th>5478</th>\n",
              "      <td>2014</td>\n",
              "      <td>12</td>\n",
              "      <td>31</td>\n",
              "      <td>3</td>\n",
              "      <td>11990</td>\n",
              "    </tr>\n",
              "  </tbody>\n",
              "</table>\n",
              "</div>"
            ],
            "text/plain": [
              "      year  month  date_of_month  day_of_week  births\n",
              "5474  2014     12             27            6    8656\n",
              "5475  2014     12             28            7    7724\n",
              "5476  2014     12             29            1   12811\n",
              "5477  2014     12             30            2   13634\n",
              "5478  2014     12             31            3   11990"
            ]
          },
          "metadata": {
            "tags": []
          },
          "execution_count": 81
        }
      ]
    },
    {
      "cell_type": "code",
      "metadata": {
        "colab": {
          "base_uri": "https://localhost:8080/",
          "height": 206
        },
        "id": "BKgSrglxidns",
        "outputId": "778707ef-b27c-4cba-9595-41710f493a85"
      },
      "source": [
        "df.head().T"
      ],
      "execution_count": null,
      "outputs": [
        {
          "output_type": "execute_result",
          "data": {
            "text/html": [
              "<div>\n",
              "<style scoped>\n",
              "    .dataframe tbody tr th:only-of-type {\n",
              "        vertical-align: middle;\n",
              "    }\n",
              "\n",
              "    .dataframe tbody tr th {\n",
              "        vertical-align: top;\n",
              "    }\n",
              "\n",
              "    .dataframe thead th {\n",
              "        text-align: right;\n",
              "    }\n",
              "</style>\n",
              "<table border=\"1\" class=\"dataframe\">\n",
              "  <thead>\n",
              "    <tr style=\"text-align: right;\">\n",
              "      <th></th>\n",
              "      <th>0</th>\n",
              "      <th>1</th>\n",
              "      <th>2</th>\n",
              "      <th>3</th>\n",
              "      <th>4</th>\n",
              "    </tr>\n",
              "  </thead>\n",
              "  <tbody>\n",
              "    <tr>\n",
              "      <th>year</th>\n",
              "      <td>2000</td>\n",
              "      <td>2000</td>\n",
              "      <td>2000</td>\n",
              "      <td>2000</td>\n",
              "      <td>2000</td>\n",
              "    </tr>\n",
              "    <tr>\n",
              "      <th>month</th>\n",
              "      <td>1</td>\n",
              "      <td>1</td>\n",
              "      <td>1</td>\n",
              "      <td>1</td>\n",
              "      <td>1</td>\n",
              "    </tr>\n",
              "    <tr>\n",
              "      <th>date_of_month</th>\n",
              "      <td>1</td>\n",
              "      <td>2</td>\n",
              "      <td>3</td>\n",
              "      <td>4</td>\n",
              "      <td>5</td>\n",
              "    </tr>\n",
              "    <tr>\n",
              "      <th>day_of_week</th>\n",
              "      <td>6</td>\n",
              "      <td>7</td>\n",
              "      <td>1</td>\n",
              "      <td>2</td>\n",
              "      <td>3</td>\n",
              "    </tr>\n",
              "    <tr>\n",
              "      <th>births</th>\n",
              "      <td>9083</td>\n",
              "      <td>8006</td>\n",
              "      <td>11363</td>\n",
              "      <td>13032</td>\n",
              "      <td>12558</td>\n",
              "    </tr>\n",
              "  </tbody>\n",
              "</table>\n",
              "</div>"
            ],
            "text/plain": [
              "                  0     1      2      3      4\n",
              "year           2000  2000   2000   2000   2000\n",
              "month             1     1      1      1      1\n",
              "date_of_month     1     2      3      4      5\n",
              "day_of_week       6     7      1      2      3\n",
              "births         9083  8006  11363  13032  12558"
            ]
          },
          "metadata": {
            "tags": []
          },
          "execution_count": 82
        }
      ]
    },
    {
      "cell_type": "markdown",
      "metadata": {
        "id": "i6YpHv_hG18v"
      },
      "source": [
        "Seems like there's a significantly lower amount of births during weekends. Could it be that on weekdays there are more doctors in hospitals? Source: https://www.sciencedaily.com/releases/2007/09/070925130026.htm."
      ]
    },
    {
      "cell_type": "markdown",
      "metadata": {
        "id": "B3hUnXMNG18v"
      },
      "source": [
        "People seem to be making children in winter, just before Christmas."
      ]
    },
    {
      "cell_type": "markdown",
      "metadata": {
        "id": "8_l--D53G18v"
      },
      "source": [
        "Pre-economical crysis baby boom?"
      ]
    },
    {
      "cell_type": "markdown",
      "metadata": {
        "id": "g45MypNiG18v"
      },
      "source": [
        "Seems like childbirth varies most towards the end of a year."
      ]
    },
    {
      "cell_type": "markdown",
      "metadata": {
        "id": "H4aDHNYmG18v"
      },
      "source": [
        "-------"
      ]
    },
    {
      "cell_type": "markdown",
      "metadata": {
        "id": "m2qqocezG18v"
      },
      "source": [
        "## Summary"
      ]
    },
    {
      "cell_type": "markdown",
      "metadata": {
        "id": "tC04kgU4G18v"
      },
      "source": [
        "Basic EDA is what data scientists always do with when starting to work with a new dataset. It's an essential skill to possess. Though, data comes in all shapes and flavors. There's much more to plotting than Pandas APIs. This is what we'll focus on in subsequent chapters."
      ]
    },
    {
      "cell_type": "code",
      "metadata": {
        "id": "26e-4y6hG18v"
      },
      "source": [
        ""
      ],
      "execution_count": null,
      "outputs": []
    }
  ]
}